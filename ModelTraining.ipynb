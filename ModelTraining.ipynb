{
 "cells": [
  {
   "cell_type": "markdown",
   "metadata": {
    "jupyter": {
     "outputs_hidden": true
    }
   },
   "source": [
    "# 相关设置"
   ]
  },
  {
   "cell_type": "code",
   "execution_count": 83,
   "metadata": {},
   "outputs": [],
   "source": [
    "from IPython.core.interactiveshell import InteractiveShell\n",
    "\n",
    "import pandas as pd\n",
    "import numpy as np\n",
    "import matplotlib.pyplot as plt\n",
    "import seaborn as sns\n",
    "%matplotlib inline\n",
    "\n",
    "InteractiveShell.ast_node_interactivity = \"all\"  # 一个cell显示多输出\n",
    "\n",
    "pd.set_option('display.max_rows', 100)  # 设置最大显示100行\n",
    "pd.set_option('display.max_columns', 100)  # 设置最大显示100列"
   ]
  },
  {
   "cell_type": "code",
   "execution_count": 84,
   "metadata": {},
   "outputs": [
    {
     "name": "stdout",
     "output_type": "stream",
     "text": [
      "(45211, 9)\n"
     ]
    }
   ],
   "source": [
    "EDA_data = pd.read_csv('data/after_EDA/EDA_data.csv')\n",
    "print(EDA_data.shape)"
   ]
  },
  {
   "cell_type": "code",
   "execution_count": 85,
   "metadata": {},
   "outputs": [
    {
     "data": {
      "text/plain": [
       "1    31427\n",
       "0    13784\n",
       "Name: is_pass, dtype: int64"
      ]
     },
     "execution_count": 85,
     "metadata": {},
     "output_type": "execute_result"
    }
   ],
   "source": [
    "EDA_data['is_pass'].value_counts()"
   ]
  },
  {
   "cell_type": "code",
   "execution_count": 86,
   "metadata": {},
   "outputs": [
    {
     "data": {
      "text/html": [
       "<div>\n",
       "<style scoped>\n",
       "    .dataframe tbody tr th:only-of-type {\n",
       "        vertical-align: middle;\n",
       "    }\n",
       "\n",
       "    .dataframe tbody tr th {\n",
       "        vertical-align: top;\n",
       "    }\n",
       "\n",
       "    .dataframe thead th {\n",
       "        text-align: right;\n",
       "    }\n",
       "</style>\n",
       "<table border=\"1\" class=\"dataframe\">\n",
       "  <thead>\n",
       "    <tr style=\"text-align: right;\">\n",
       "      <th></th>\n",
       "      <th>test_type</th>\n",
       "      <th>difficulty_level</th>\n",
       "      <th>education</th>\n",
       "      <th>city_tier</th>\n",
       "      <th>is_handicapped</th>\n",
       "      <th>trainee_engagement_rating</th>\n",
       "      <th>is_pass</th>\n",
       "      <th>gender_F</th>\n",
       "      <th>gender_M</th>\n",
       "    </tr>\n",
       "  </thead>\n",
       "  <tbody>\n",
       "    <tr>\n",
       "      <th>0</th>\n",
       "      <td>2</td>\n",
       "      <td>2</td>\n",
       "      <td>3</td>\n",
       "      <td>3.0</td>\n",
       "      <td>1</td>\n",
       "      <td>1.0</td>\n",
       "      <td>0</td>\n",
       "      <td>0</td>\n",
       "      <td>1</td>\n",
       "    </tr>\n",
       "    <tr>\n",
       "      <th>1</th>\n",
       "      <td>2</td>\n",
       "      <td>1</td>\n",
       "      <td>2</td>\n",
       "      <td>4.0</td>\n",
       "      <td>1</td>\n",
       "      <td>3.0</td>\n",
       "      <td>1</td>\n",
       "      <td>1</td>\n",
       "      <td>0</td>\n",
       "    </tr>\n",
       "    <tr>\n",
       "      <th>2</th>\n",
       "      <td>1</td>\n",
       "      <td>1</td>\n",
       "      <td>3</td>\n",
       "      <td>1.0</td>\n",
       "      <td>1</td>\n",
       "      <td>2.0</td>\n",
       "      <td>1</td>\n",
       "      <td>0</td>\n",
       "      <td>1</td>\n",
       "    </tr>\n",
       "    <tr>\n",
       "      <th>3</th>\n",
       "      <td>2</td>\n",
       "      <td>1</td>\n",
       "      <td>3</td>\n",
       "      <td>3.0</td>\n",
       "      <td>1</td>\n",
       "      <td>1.0</td>\n",
       "      <td>1</td>\n",
       "      <td>1</td>\n",
       "      <td>0</td>\n",
       "    </tr>\n",
       "    <tr>\n",
       "      <th>4</th>\n",
       "      <td>2</td>\n",
       "      <td>2</td>\n",
       "      <td>2</td>\n",
       "      <td>1.0</td>\n",
       "      <td>1</td>\n",
       "      <td>4.0</td>\n",
       "      <td>1</td>\n",
       "      <td>1</td>\n",
       "      <td>0</td>\n",
       "    </tr>\n",
       "  </tbody>\n",
       "</table>\n",
       "</div>"
      ],
      "text/plain": [
       "   test_type  difficulty_level  education  city_tier  is_handicapped  \\\n",
       "0          2                 2          3        3.0               1   \n",
       "1          2                 1          2        4.0               1   \n",
       "2          1                 1          3        1.0               1   \n",
       "3          2                 1          3        3.0               1   \n",
       "4          2                 2          2        1.0               1   \n",
       "\n",
       "   trainee_engagement_rating  is_pass  gender_F  gender_M  \n",
       "0                        1.0        0         0         1  \n",
       "1                        3.0        1         1         0  \n",
       "2                        2.0        1         0         1  \n",
       "3                        1.0        1         1         0  \n",
       "4                        4.0        1         1         0  "
      ]
     },
     "execution_count": 86,
     "metadata": {},
     "output_type": "execute_result"
    }
   ],
   "source": [
    "EDA_data.head()"
   ]
  },
  {
   "cell_type": "code",
   "execution_count": 87,
   "metadata": {},
   "outputs": [],
   "source": [
    "pos_data = EDA_data[EDA_data['is_pass'] == 1].values\n",
    "neg_data = EDA_data[EDA_data['is_pass'] == 0].values"
   ]
  },
  {
   "cell_type": "markdown",
   "metadata": {},
   "source": [
    "# SMOTE 算法"
   ]
  },
  {
   "cell_type": "code",
   "execution_count": 88,
   "metadata": {},
   "outputs": [],
   "source": [
    "import random\n",
    "from sklearn.neighbors import NearestNeighbors\n",
    "\n",
    "class Smote:\n",
    "    def __init__(self, samples, N=10, k=5):\n",
    "        self.n_samples, self.n_attrs = samples.shape\n",
    "        self.N = N\n",
    "        self.k = k\n",
    "        self.samples = samples\n",
    "        self.new_index = 0\n",
    "\n",
    "    def over_sampling(self):\n",
    "        N_ = int(self.N / 100)\n",
    "        self.synthetic = np.zeros((self.n_samples * N_, self.n_attrs))\n",
    "        neighbors = NearestNeighbors(n_neighbors=self.k).fit(self.samples)\n",
    "        # print('neighbors', neighbors)\n",
    "        for i in range(len(self.samples)):\n",
    "            # print('samples', self.samples[i])\n",
    "            # Finds the K-neighbors of a point.\n",
    "            nnarray = neighbors.kneighbors(self.samples[i].reshape((1, -1)),\n",
    "                                           return_distance=False)[0]\n",
    "            # print('nna', nnarray)\n",
    "            self._populate(N_, i, nnarray)\n",
    "        return self.synthetic\n",
    "\n",
    "    # for each minority class sample i ,choose N of the k nearest neighbors and generate N synthetic samples.\n",
    "    def _populate(self, N, i, nnarray):\n",
    "        for j in range(N):\n",
    "            # print('j', j)\n",
    "            nn = random.randint(0, self.k - 1)  # 包括end\n",
    "            dif = self.samples[nnarray[nn]] - self.samples[i]\n",
    "            gap = random.random()\n",
    "            self.synthetic[self.new_index] = self.samples[i] + gap * dif\n",
    "            self.new_index += 1\n",
    "            # print(self.new_index)"
   ]
  },
  {
   "cell_type": "code",
   "execution_count": 89,
   "metadata": {},
   "outputs": [],
   "source": [
    "smote = Smote(neg_data, N=100)\n",
    "smote_neg_data = smote.over_sampling()"
   ]
  },
  {
   "cell_type": "code",
   "execution_count": 90,
   "metadata": {},
   "outputs": [],
   "source": [
    "new_neg_data = np.vstack((neg_data, smote_neg_data))"
   ]
  },
  {
   "cell_type": "code",
   "execution_count": 91,
   "metadata": {},
   "outputs": [
    {
     "data": {
      "text/plain": [
       "27568"
      ]
     },
     "execution_count": 91,
     "metadata": {},
     "output_type": "execute_result"
    },
    {
     "data": {
      "text/plain": [
       "31427"
      ]
     },
     "execution_count": 91,
     "metadata": {},
     "output_type": "execute_result"
    }
   ],
   "source": [
    "len(new_neg_data)\n",
    "len(pos_data)"
   ]
  },
  {
   "cell_type": "code",
   "execution_count": 92,
   "metadata": {},
   "outputs": [],
   "source": [
    "new_data = pd.DataFrame(np.vstack((new_neg_data, pos_data)), columns=EDA_data.columns)"
   ]
  },
  {
   "cell_type": "code",
   "execution_count": 93,
   "metadata": {},
   "outputs": [
    {
     "name": "stdout",
     "output_type": "stream",
     "text": [
      "(47196, 9)\n",
      "(11799, 9)\n"
     ]
    }
   ],
   "source": [
    "from sklearn.model_selection import train_test_split\n",
    "\n",
    "train_set, test_set = train_test_split(new_data, test_size=0.2, random_state=412)\n",
    "\n",
    "print(train_set.shape)\n",
    "print(test_set.shape)"
   ]
  },
  {
   "cell_type": "code",
   "execution_count": 94,
   "metadata": {},
   "outputs": [],
   "source": [
    "X_train = train_set[train_set.columns.difference(['is_pass'])].values\n",
    "y_train = train_set[['is_pass']].values\n",
    "X_test = test_set[test_set.columns.difference(['is_pass'])].values\n",
    "y_test = test_set[['is_pass']].values"
   ]
  },
  {
   "cell_type": "markdown",
   "metadata": {},
   "source": [
    "# 评估方法"
   ]
  },
  {
   "cell_type": "code",
   "execution_count": 95,
   "metadata": {},
   "outputs": [],
   "source": [
    "from sklearn.metrics import accuracy_score\n",
    "from sklearn.metrics import confusion_matrix\n",
    "from sklearn.metrics import roc_auc_score\n",
    "from sklearn.metrics import classification_report"
   ]
  },
  {
   "cell_type": "markdown",
   "metadata": {},
   "source": [
    "# 随机森林"
   ]
  },
  {
   "cell_type": "code",
   "execution_count": 73,
   "metadata": {},
   "outputs": [
    {
     "data": {
      "text/plain": [
       "RandomForestClassifier(n_estimators=10, n_jobs=1)"
      ]
     },
     "execution_count": 73,
     "metadata": {},
     "output_type": "execute_result"
    },
    {
     "name": "stdout",
     "output_type": "stream",
     "text": [
      "accuracy_score:  0.6966113259040255\n",
      "confusion_matrix:  [[1000 1684]\n",
      " [ 984 5126]]\n",
      "roc_auc_score:  0.6057653891277889\n",
      "classification_report:                precision    recall  f1-score   support\n",
      "\n",
      "           0       0.50      0.37      0.43      2684\n",
      "           1       0.75      0.84      0.79      6110\n",
      "\n",
      "    accuracy                           0.70      8794\n",
      "   macro avg       0.63      0.61      0.61      8794\n",
      "weighted avg       0.68      0.70      0.68      8794\n",
      "\n"
     ]
    }
   ],
   "source": [
    "from sklearn.ensemble import RandomForestClassifier\n",
    "\n",
    "rf_model = RandomForestClassifier(bootstrap=True, class_weight=None, criterion='gini',\n",
    "            max_depth=None, max_features='auto', max_leaf_nodes=None,\n",
    "            min_samples_leaf=1, min_samples_split=2,\n",
    "            min_weight_fraction_leaf=0.0, n_estimators=10, n_jobs=1,\n",
    "            oob_score=False, random_state=None, verbose=0,\n",
    "            warm_start=False)\n",
    "\n",
    "rf_model.fit(X_train, y_train.ravel())\n",
    "y_predict = rf_model.predict(X=X_test)\n",
    "\n",
    "print(\"accuracy_score: \", accuracy_score(y_test, y_predict))\n",
    "print('confusion_matrix: ', confusion_matrix(y_test, y_predict))\n",
    "print('roc_auc_score: ', roc_auc_score(y_test, y_predict))\n",
    "print('classification_report: ', classification_report(y_test, y_predict))"
   ]
  },
  {
   "cell_type": "markdown",
   "metadata": {},
   "source": [
    "# LightGBM"
   ]
  },
  {
   "cell_type": "code",
   "execution_count": 68,
   "metadata": {},
   "outputs": [
    {
     "name": "stderr",
     "output_type": "stream",
     "text": [
      "S:\\DataMining\\venv\\lib\\site-packages\\lightgbm\\basic.py:154: UserWarning: Converting column-vector to 1d array\n",
      "  _log_warning('Converting column-vector to 1d array')\n"
     ]
    },
    {
     "name": "stdout",
     "output_type": "stream",
     "text": [
      "Training until validation scores don't improve for 100 rounds\n",
      "[100]\ttraining's auc: 0.69747\ttraining's binary_logloss: 0.629396\tvalid_1's auc: 0.687087\tvalid_1's binary_logloss: 0.635841\n",
      "[200]\ttraining's auc: 0.702152\ttraining's binary_logloss: 0.62491\tvalid_1's auc: 0.688901\tvalid_1's binary_logloss: 0.633719\n",
      "[300]\ttraining's auc: 0.704309\ttraining's binary_logloss: 0.622974\tvalid_1's auc: 0.689189\tvalid_1's binary_logloss: 0.633279\n",
      "[400]\ttraining's auc: 0.705683\ttraining's binary_logloss: 0.621743\tvalid_1's auc: 0.689326\tvalid_1's binary_logloss: 0.633154\n",
      "[500]\ttraining's auc: 0.706609\ttraining's binary_logloss: 0.620911\tvalid_1's auc: 0.689569\tvalid_1's binary_logloss: 0.632969\n",
      "[600]\ttraining's auc: 0.707351\ttraining's binary_logloss: 0.620215\tvalid_1's auc: 0.689518\tvalid_1's binary_logloss: 0.633025\n",
      "Early stopping, best iteration is:\n",
      "[502]\ttraining's auc: 0.706636\ttraining's binary_logloss: 0.620895\tvalid_1's auc: 0.689557\tvalid_1's binary_logloss: 0.632963\n",
      "accuracy_score:  0.6410712772268836\n",
      "confusion_matrix:  [[3280 2279]\n",
      " [1956 4284]]\n",
      "roc_auc_score:  0.6382863201737999\n",
      "classification_report:                precision    recall  f1-score   support\n",
      "\n",
      "         0.0       0.63      0.59      0.61      5559\n",
      "         1.0       0.65      0.69      0.67      6240\n",
      "\n",
      "    accuracy                           0.64     11799\n",
      "   macro avg       0.64      0.64      0.64     11799\n",
      "weighted avg       0.64      0.64      0.64     11799\n",
      "\n"
     ]
    }
   ],
   "source": [
    "import lightgbm as lgb\n",
    "\n",
    "trn_data = lgb.Dataset(X_train, y_train)\n",
    "val_data = lgb.Dataset(X_test, y_test)\n",
    "\n",
    "params = {'num_leaves': 60, #结果对最终效果影响较大，越大值越好，太大会出现过拟合\n",
    "          'min_data_in_leaf': 30,\n",
    "          'objective': 'binary', #定义的目标函数\n",
    "          'max_depth': -1,\n",
    "          'learning_rate': 0.03,\n",
    "          \"min_sum_hessian_in_leaf\": 6,\n",
    "          \"boosting\": \"gbdt\",\n",
    "          \"feature_fraction\": 0.9,  #提取的特征比率\n",
    "          \"bagging_freq\": 1,\n",
    "          \"bagging_fraction\": 0.8,\n",
    "          \"bagging_seed\": 11,\n",
    "          \"lambda_l1\": 0.1,             #l1正则\n",
    "          # 'lambda_l2': 0.001,     #l2正则\n",
    "          \"verbosity\": -1,\n",
    "          \"nthread\": -1,                #线程数量，-1表示全部线程，线程越多，运行的速度越快\n",
    "          'metric': {'binary_logloss', 'auc'},  ##评价函数选择\n",
    "          \"random_state\": 2019, #随机数种子，可以防止每次运行的结果不一致\n",
    "          # 'device': 'gpu' ##如果安装的事gpu版本的lightgbm,可以加快运算\n",
    "          }\n",
    "\n",
    "lgb_model = lgb.train(params, \n",
    "                      trn_data, \n",
    "                      num_boost_round = 1000,\n",
    "                      valid_sets = [trn_data,val_data], \n",
    "                      verbose_eval = 100, \n",
    "                      early_stopping_rounds = 100)\n",
    "\n",
    "y_predict = lgb_model.predict(X_test, num_iteration=lgb_model.best_iteration)\n",
    "\n",
    "y_predict[y_predict > 0.5] = 1\n",
    "y_predict[y_predict <= 0.5] = 0\n",
    "\n",
    "print(\"accuracy_score: \", accuracy_score(y_test, y_predict))\n",
    "print('confusion_matrix: ', confusion_matrix(y_test, y_predict))\n",
    "print('roc_auc_score: ', roc_auc_score(y_test, y_predict))\n",
    "print('classification_report: ', classification_report(y_test, y_predict))"
   ]
  },
  {
   "cell_type": "markdown",
   "metadata": {},
   "source": [
    "## XGBoost"
   ]
  },
  {
   "cell_type": "code",
   "execution_count": 96,
   "metadata": {},
   "outputs": [
    {
     "name": "stdout",
     "output_type": "stream",
     "text": [
      "[23:21:30] WARNING: C:/Users/Administrator/workspace/xgboost-win64_release_1.3.0/src/learner.cc:1061: Starting in XGBoost 1.3.0, the default evaluation metric used with the objective 'binary:logistic' was changed from 'error' to 'logloss'. Explicitly set eval_metric if you'd like to restore the old behavior.\n"
     ]
    },
    {
     "data": {
      "text/plain": [
       "XGBClassifier(base_score=0.5, booster='gbtree', colsample_bylevel=1,\n",
       "              colsample_bynode=1, colsample_bytree=0.8, gamma=0, gpu_id=-1,\n",
       "              importance_type='gain', interaction_constraints='',\n",
       "              learning_rate=0.1, max_delta_step=0, max_depth=5,\n",
       "              min_child_weight=1, missing=nan, monotone_constraints='()',\n",
       "              n_estimators=1000, n_jobs=4, nthread=4, num_parallel_tree=1,\n",
       "              random_state=412, reg_alpha=0, reg_lambda=1, scale_pos_weight=1,\n",
       "              subsample=0.8, tree_method='exact', use_label_encoder=False,\n",
       "              validate_parameters=1, verbosity=None)"
      ]
     },
     "execution_count": 96,
     "metadata": {},
     "output_type": "execute_result"
    },
    {
     "name": "stdout",
     "output_type": "stream",
     "text": [
      "accuracy_score:  0.6420035596236969\n",
      "confusion_matrix:  [[3236 2323]\n",
      " [1901 4339]]\n",
      "roc_auc_score:  0.6387358251345704\n",
      "classification_report:                precision    recall  f1-score   support\n",
      "\n",
      "         0.0       0.63      0.58      0.61      5559\n",
      "         1.0       0.65      0.70      0.67      6240\n",
      "\n",
      "    accuracy                           0.64     11799\n",
      "   macro avg       0.64      0.64      0.64     11799\n",
      "weighted avg       0.64      0.64      0.64     11799\n",
      "\n"
     ]
    }
   ],
   "source": [
    "from xgboost import XGBClassifier\n",
    "\n",
    "\n",
    "xgb_model = XGBClassifier(learning_rate =0.1, \n",
    "                          n_estimators=1000,\n",
    "                          use_label_encoder=False,\n",
    "                          max_depth=5,\n",
    "                          min_child_weight=1,\n",
    "                          gamma=0,\n",
    "                          subsample=0.8,\n",
    "                          colsample_bytree=0.8,\n",
    "                          objective= 'binary:logistic',\n",
    "                          nthread=4,\n",
    "                          scale_pos_weight=1,\n",
    "                          random_state=412)\n",
    "\n",
    "xgb_model.fit(X_train, y_train.ravel())\n",
    "y_predict = xgb_model.predict(X_test)\n",
    "\n",
    "print(\"accuracy_score: \", accuracy_score(y_test, y_predict))\n",
    "print('confusion_matrix: ', confusion_matrix(y_test, y_predict))\n",
    "print('roc_auc_score: ', roc_auc_score(y_test, y_predict))\n",
    "print('classification_report: ', classification_report(y_test, y_predict))"
   ]
  },
  {
   "cell_type": "markdown",
   "metadata": {},
   "source": [
    "# SVM"
   ]
  },
  {
   "cell_type": "code",
   "execution_count": 117,
   "metadata": {},
   "outputs": [
    {
     "data": {
      "text/plain": [
       "SVC()"
      ]
     },
     "execution_count": 117,
     "metadata": {},
     "output_type": "execute_result"
    },
    {
     "name": "stdout",
     "output_type": "stream",
     "text": [
      "accuracy_score:  0.6947919035706164\n",
      "confusion_matrix:  [[   0 2684]\n",
      " [   0 6110]]\n",
      "roc_auc_score:  0.5\n",
      "classification_report:                precision    recall  f1-score   support\n",
      "\n",
      "           0       0.00      0.00      0.00      2684\n",
      "           1       0.69      1.00      0.82      6110\n",
      "\n",
      "    accuracy                           0.69      8794\n",
      "   macro avg       0.35      0.50      0.41      8794\n",
      "weighted avg       0.48      0.69      0.57      8794\n",
      "\n"
     ]
    },
    {
     "name": "stderr",
     "output_type": "stream",
     "text": [
      "S:\\DataMining\\venv\\lib\\site-packages\\sklearn\\metrics\\_classification.py:1245: UndefinedMetricWarning: Precision and F-score are ill-defined and being set to 0.0 in labels with no predicted samples. Use `zero_division` parameter to control this behavior.\n",
      "  _warn_prf(average, modifier, msg_start, len(result))\n",
      "S:\\DataMining\\venv\\lib\\site-packages\\sklearn\\metrics\\_classification.py:1245: UndefinedMetricWarning: Precision and F-score are ill-defined and being set to 0.0 in labels with no predicted samples. Use `zero_division` parameter to control this behavior.\n",
      "  _warn_prf(average, modifier, msg_start, len(result))\n",
      "S:\\DataMining\\venv\\lib\\site-packages\\sklearn\\metrics\\_classification.py:1245: UndefinedMetricWarning: Precision and F-score are ill-defined and being set to 0.0 in labels with no predicted samples. Use `zero_division` parameter to control this behavior.\n",
      "  _warn_prf(average, modifier, msg_start, len(result))\n"
     ]
    }
   ],
   "source": [
    "from sklearn import svm\n",
    "\n",
    "svm_clf = svm.SVC()\n",
    "svm_clf.fit(X_train, y_train.ravel())\n",
    "\n",
    "y_predict = svm_clf.predict(X_test)\n",
    "\n",
    "print(\"accuracy_score: \", accuracy_score(y_test, y_predict))\n",
    "print('confusion_matrix: ', confusion_matrix(y_test, y_predict))\n",
    "print('roc_auc_score: ', roc_auc_score(y_test, y_predict))\n",
    "print('classification_report: ', classification_report(y_test, y_predict))"
   ]
  },
  {
   "cell_type": "markdown",
   "metadata": {},
   "source": [
    "# A榜提交数据生成"
   ]
  },
  {
   "cell_type": "code",
   "execution_count": 97,
   "metadata": {},
   "outputs": [
    {
     "data": {
      "text/html": [
       "<div>\n",
       "<style scoped>\n",
       "    .dataframe tbody tr th:only-of-type {\n",
       "        vertical-align: middle;\n",
       "    }\n",
       "\n",
       "    .dataframe tbody tr th {\n",
       "        vertical-align: top;\n",
       "    }\n",
       "\n",
       "    .dataframe thead th {\n",
       "        text-align: right;\n",
       "    }\n",
       "</style>\n",
       "<table border=\"1\" class=\"dataframe\">\n",
       "  <thead>\n",
       "    <tr style=\"text-align: right;\">\n",
       "      <th></th>\n",
       "      <th>id_num</th>\n",
       "      <th>program_type</th>\n",
       "      <th>program_id</th>\n",
       "      <th>program_duration</th>\n",
       "      <th>test_id</th>\n",
       "      <th>test_type</th>\n",
       "      <th>difficulty_level</th>\n",
       "      <th>trainee_id</th>\n",
       "      <th>gender</th>\n",
       "      <th>education</th>\n",
       "      <th>city_tier</th>\n",
       "      <th>age</th>\n",
       "      <th>total_programs_enrolled</th>\n",
       "      <th>is_handicapped</th>\n",
       "      <th>trainee_engagement_rating</th>\n",
       "      <th>is_pass</th>\n",
       "    </tr>\n",
       "  </thead>\n",
       "  <tbody>\n",
       "    <tr>\n",
       "      <th>0</th>\n",
       "      <td>1442_124</td>\n",
       "      <td>Y</td>\n",
       "      <td>Y_4</td>\n",
       "      <td>121</td>\n",
       "      <td>124</td>\n",
       "      <td>online</td>\n",
       "      <td>easy</td>\n",
       "      <td>1442</td>\n",
       "      <td>M</td>\n",
       "      <td>High School Diploma</td>\n",
       "      <td>2</td>\n",
       "      <td>NaN</td>\n",
       "      <td>8</td>\n",
       "      <td>N</td>\n",
       "      <td>4.0</td>\n",
       "      <td>NaN</td>\n",
       "    </tr>\n",
       "    <tr>\n",
       "      <th>1</th>\n",
       "      <td>12373_38</td>\n",
       "      <td>T</td>\n",
       "      <td>T_2</td>\n",
       "      <td>117</td>\n",
       "      <td>38</td>\n",
       "      <td>online</td>\n",
       "      <td>easy</td>\n",
       "      <td>12373</td>\n",
       "      <td>F</td>\n",
       "      <td>High School Diploma</td>\n",
       "      <td>4</td>\n",
       "      <td>31.0</td>\n",
       "      <td>2</td>\n",
       "      <td>N</td>\n",
       "      <td>3.0</td>\n",
       "      <td>NaN</td>\n",
       "    </tr>\n",
       "    <tr>\n",
       "      <th>2</th>\n",
       "      <td>12035_21</td>\n",
       "      <td>T</td>\n",
       "      <td>T_3</td>\n",
       "      <td>134</td>\n",
       "      <td>21</td>\n",
       "      <td>offline</td>\n",
       "      <td>easy</td>\n",
       "      <td>12035</td>\n",
       "      <td>F</td>\n",
       "      <td>High School Diploma</td>\n",
       "      <td>4</td>\n",
       "      <td>NaN</td>\n",
       "      <td>2</td>\n",
       "      <td>N</td>\n",
       "      <td>1.0</td>\n",
       "      <td>NaN</td>\n",
       "    </tr>\n",
       "    <tr>\n",
       "      <th>3</th>\n",
       "      <td>11148_86</td>\n",
       "      <td>V</td>\n",
       "      <td>V_3</td>\n",
       "      <td>131</td>\n",
       "      <td>86</td>\n",
       "      <td>offline</td>\n",
       "      <td>vary hard</td>\n",
       "      <td>11148</td>\n",
       "      <td>M</td>\n",
       "      <td>Matriculation</td>\n",
       "      <td>1</td>\n",
       "      <td>NaN</td>\n",
       "      <td>2</td>\n",
       "      <td>N</td>\n",
       "      <td>1.0</td>\n",
       "      <td>NaN</td>\n",
       "    </tr>\n",
       "    <tr>\n",
       "      <th>4</th>\n",
       "      <td>1362_131</td>\n",
       "      <td>Y</td>\n",
       "      <td>Y_3</td>\n",
       "      <td>135</td>\n",
       "      <td>131</td>\n",
       "      <td>online</td>\n",
       "      <td>easy</td>\n",
       "      <td>1362</td>\n",
       "      <td>M</td>\n",
       "      <td>High School Diploma</td>\n",
       "      <td>2</td>\n",
       "      <td>45.0</td>\n",
       "      <td>2</td>\n",
       "      <td>N</td>\n",
       "      <td>4.0</td>\n",
       "      <td>NaN</td>\n",
       "    </tr>\n",
       "  </tbody>\n",
       "</table>\n",
       "</div>"
      ],
      "text/plain": [
       "     id_num program_type program_id  program_duration  test_id test_type  \\\n",
       "0  1442_124            Y        Y_4               121      124    online   \n",
       "1  12373_38            T        T_2               117       38    online   \n",
       "2  12035_21            T        T_3               134       21   offline   \n",
       "3  11148_86            V        V_3               131       86   offline   \n",
       "4  1362_131            Y        Y_3               135      131    online   \n",
       "\n",
       "  difficulty_level  trainee_id gender            education  city_tier   age  \\\n",
       "0             easy        1442      M  High School Diploma          2   NaN   \n",
       "1             easy       12373      F  High School Diploma          4  31.0   \n",
       "2             easy       12035      F  High School Diploma          4   NaN   \n",
       "3        vary hard       11148      M        Matriculation          1   NaN   \n",
       "4             easy        1362      M  High School Diploma          2  45.0   \n",
       "\n",
       "   total_programs_enrolled is_handicapped  trainee_engagement_rating  is_pass  \n",
       "0                        8              N                        4.0      NaN  \n",
       "1                        2              N                        3.0      NaN  \n",
       "2                        2              N                        1.0      NaN  \n",
       "3                        2              N                        1.0      NaN  \n",
       "4                        2              N                        4.0      NaN  "
      ]
     },
     "execution_count": 97,
     "metadata": {},
     "output_type": "execute_result"
    }
   ],
   "source": [
    "test_data = pd.read_csv('data/test/test1.csv')\n",
    "test_data.head()"
   ]
  },
  {
   "cell_type": "markdown",
   "metadata": {},
   "source": [
    "# 去除无用列"
   ]
  },
  {
   "cell_type": "code",
   "execution_count": 98,
   "metadata": {},
   "outputs": [],
   "source": [
    "test_data.drop(['program_duration', 'program_type', 'id_num', 'program_id', 'test_id', 'trainee_id', 'age', 'total_programs_enrolled'], inplace=True, axis=1)"
   ]
  },
  {
   "cell_type": "markdown",
   "metadata": {},
   "source": [
    "# 缺失值填充"
   ]
  },
  {
   "cell_type": "code",
   "execution_count": 99,
   "metadata": {},
   "outputs": [],
   "source": [
    "# test_data['age'].fillna(test_data['age'].mean(), inplace=True)"
   ]
  },
  {
   "cell_type": "markdown",
   "metadata": {},
   "source": [
    "# 独热编码"
   ]
  },
  {
   "cell_type": "code",
   "execution_count": 100,
   "metadata": {},
   "outputs": [],
   "source": [
    "test_data = test_data.join(pd.get_dummies(test_data[[\"gender\"]]))"
   ]
  },
  {
   "cell_type": "markdown",
   "metadata": {},
   "source": [
    "# 去除独热编码的列"
   ]
  },
  {
   "cell_type": "code",
   "execution_count": 101,
   "metadata": {},
   "outputs": [],
   "source": [
    "test_data.drop(['gender'], inplace=True, axis=1)"
   ]
  },
  {
   "cell_type": "markdown",
   "metadata": {},
   "source": [
    "# 特征编码"
   ]
  },
  {
   "cell_type": "code",
   "execution_count": 102,
   "metadata": {},
   "outputs": [],
   "source": [
    "test_type_map = {'online': 1, 'offline': 2}\n",
    "difficulty_level_map = {'easy': 1, 'intermediate': 2, 'hard': 3, 'vary hard': 4}\n",
    "education_map = {'No Qualification': 1, 'High School Diploma': 2, 'Matriculation': 3, 'Bachelors': 4, 'Masters': 5}\n",
    "is_handicapped_map = {'N': 1, 'Y': 2}"
   ]
  },
  {
   "cell_type": "code",
   "execution_count": 103,
   "metadata": {},
   "outputs": [],
   "source": [
    "test_data['test_type'] = test_data['test_type'].map(test_type_map)\n",
    "test_data['difficulty_level'] = test_data['difficulty_level'].map(difficulty_level_map)\n",
    "test_data['education'] = test_data['education'].map(education_map)\n",
    "test_data['is_handicapped'] = test_data['is_handicapped'].map(is_handicapped_map)"
   ]
  },
  {
   "cell_type": "code",
   "execution_count": 104,
   "metadata": {},
   "outputs": [],
   "source": [
    "test_data.drop(['is_pass'], axis=1, inplace=True)"
   ]
  },
  {
   "cell_type": "code",
   "execution_count": 105,
   "metadata": {},
   "outputs": [
    {
     "data": {
      "text/html": [
       "<div>\n",
       "<style scoped>\n",
       "    .dataframe tbody tr th:only-of-type {\n",
       "        vertical-align: middle;\n",
       "    }\n",
       "\n",
       "    .dataframe tbody tr th {\n",
       "        vertical-align: top;\n",
       "    }\n",
       "\n",
       "    .dataframe thead th {\n",
       "        text-align: right;\n",
       "    }\n",
       "</style>\n",
       "<table border=\"1\" class=\"dataframe\">\n",
       "  <thead>\n",
       "    <tr style=\"text-align: right;\">\n",
       "      <th></th>\n",
       "      <th>test_type</th>\n",
       "      <th>difficulty_level</th>\n",
       "      <th>education</th>\n",
       "      <th>city_tier</th>\n",
       "      <th>is_handicapped</th>\n",
       "      <th>trainee_engagement_rating</th>\n",
       "      <th>gender_F</th>\n",
       "      <th>gender_M</th>\n",
       "    </tr>\n",
       "  </thead>\n",
       "  <tbody>\n",
       "    <tr>\n",
       "      <th>0</th>\n",
       "      <td>1</td>\n",
       "      <td>1</td>\n",
       "      <td>2</td>\n",
       "      <td>2</td>\n",
       "      <td>1</td>\n",
       "      <td>4.0</td>\n",
       "      <td>0</td>\n",
       "      <td>1</td>\n",
       "    </tr>\n",
       "    <tr>\n",
       "      <th>1</th>\n",
       "      <td>1</td>\n",
       "      <td>1</td>\n",
       "      <td>2</td>\n",
       "      <td>4</td>\n",
       "      <td>1</td>\n",
       "      <td>3.0</td>\n",
       "      <td>1</td>\n",
       "      <td>0</td>\n",
       "    </tr>\n",
       "    <tr>\n",
       "      <th>2</th>\n",
       "      <td>2</td>\n",
       "      <td>1</td>\n",
       "      <td>2</td>\n",
       "      <td>4</td>\n",
       "      <td>1</td>\n",
       "      <td>1.0</td>\n",
       "      <td>1</td>\n",
       "      <td>0</td>\n",
       "    </tr>\n",
       "    <tr>\n",
       "      <th>3</th>\n",
       "      <td>2</td>\n",
       "      <td>4</td>\n",
       "      <td>3</td>\n",
       "      <td>1</td>\n",
       "      <td>1</td>\n",
       "      <td>1.0</td>\n",
       "      <td>0</td>\n",
       "      <td>1</td>\n",
       "    </tr>\n",
       "    <tr>\n",
       "      <th>4</th>\n",
       "      <td>1</td>\n",
       "      <td>1</td>\n",
       "      <td>2</td>\n",
       "      <td>2</td>\n",
       "      <td>1</td>\n",
       "      <td>4.0</td>\n",
       "      <td>0</td>\n",
       "      <td>1</td>\n",
       "    </tr>\n",
       "    <tr>\n",
       "      <th>...</th>\n",
       "      <td>...</td>\n",
       "      <td>...</td>\n",
       "      <td>...</td>\n",
       "      <td>...</td>\n",
       "      <td>...</td>\n",
       "      <td>...</td>\n",
       "      <td>...</td>\n",
       "      <td>...</td>\n",
       "    </tr>\n",
       "    <tr>\n",
       "      <th>11679</th>\n",
       "      <td>2</td>\n",
       "      <td>1</td>\n",
       "      <td>2</td>\n",
       "      <td>3</td>\n",
       "      <td>1</td>\n",
       "      <td>2.0</td>\n",
       "      <td>1</td>\n",
       "      <td>0</td>\n",
       "    </tr>\n",
       "    <tr>\n",
       "      <th>11680</th>\n",
       "      <td>1</td>\n",
       "      <td>1</td>\n",
       "      <td>2</td>\n",
       "      <td>2</td>\n",
       "      <td>1</td>\n",
       "      <td>2.0</td>\n",
       "      <td>1</td>\n",
       "      <td>0</td>\n",
       "    </tr>\n",
       "    <tr>\n",
       "      <th>11681</th>\n",
       "      <td>1</td>\n",
       "      <td>1</td>\n",
       "      <td>3</td>\n",
       "      <td>2</td>\n",
       "      <td>1</td>\n",
       "      <td>4.0</td>\n",
       "      <td>0</td>\n",
       "      <td>1</td>\n",
       "    </tr>\n",
       "    <tr>\n",
       "      <th>11682</th>\n",
       "      <td>2</td>\n",
       "      <td>2</td>\n",
       "      <td>2</td>\n",
       "      <td>3</td>\n",
       "      <td>1</td>\n",
       "      <td>2.0</td>\n",
       "      <td>0</td>\n",
       "      <td>1</td>\n",
       "    </tr>\n",
       "    <tr>\n",
       "      <th>11683</th>\n",
       "      <td>1</td>\n",
       "      <td>1</td>\n",
       "      <td>2</td>\n",
       "      <td>3</td>\n",
       "      <td>1</td>\n",
       "      <td>4.0</td>\n",
       "      <td>1</td>\n",
       "      <td>0</td>\n",
       "    </tr>\n",
       "  </tbody>\n",
       "</table>\n",
       "<p>11684 rows × 8 columns</p>\n",
       "</div>"
      ],
      "text/plain": [
       "       test_type  difficulty_level  education  city_tier  is_handicapped  \\\n",
       "0              1                 1          2          2               1   \n",
       "1              1                 1          2          4               1   \n",
       "2              2                 1          2          4               1   \n",
       "3              2                 4          3          1               1   \n",
       "4              1                 1          2          2               1   \n",
       "...          ...               ...        ...        ...             ...   \n",
       "11679          2                 1          2          3               1   \n",
       "11680          1                 1          2          2               1   \n",
       "11681          1                 1          3          2               1   \n",
       "11682          2                 2          2          3               1   \n",
       "11683          1                 1          2          3               1   \n",
       "\n",
       "       trainee_engagement_rating  gender_F  gender_M  \n",
       "0                            4.0         0         1  \n",
       "1                            3.0         1         0  \n",
       "2                            1.0         1         0  \n",
       "3                            1.0         0         1  \n",
       "4                            4.0         0         1  \n",
       "...                          ...       ...       ...  \n",
       "11679                        2.0         1         0  \n",
       "11680                        2.0         1         0  \n",
       "11681                        4.0         0         1  \n",
       "11682                        2.0         0         1  \n",
       "11683                        4.0         1         0  \n",
       "\n",
       "[11684 rows x 8 columns]"
      ]
     },
     "execution_count": 105,
     "metadata": {},
     "output_type": "execute_result"
    }
   ],
   "source": [
    "test_data"
   ]
  },
  {
   "cell_type": "code",
   "execution_count": 106,
   "metadata": {},
   "outputs": [],
   "source": [
    "X_submit = test_data.values"
   ]
  },
  {
   "cell_type": "code",
   "execution_count": 110,
   "metadata": {},
   "outputs": [],
   "source": [
    "y_submit = xgb_model.predict(X_submit)\n",
    "y_submit[y_submit > 0.5] = 1\n",
    "y_submit[y_submit <= 0.5] = 0"
   ]
  },
  {
   "cell_type": "code",
   "execution_count": 111,
   "metadata": {},
   "outputs": [
    {
     "name": "stdout",
     "output_type": "stream",
     "text": [
      "[1 1 1 ... 1 1 1]\n"
     ]
    }
   ],
   "source": [
    "print(y_submit)"
   ]
  },
  {
   "cell_type": "code",
   "execution_count": 112,
   "metadata": {},
   "outputs": [],
   "source": [
    "id_num = pd.read_csv('data/test/test1.csv')['id_num']"
   ]
  },
  {
   "cell_type": "code",
   "execution_count": 113,
   "metadata": {},
   "outputs": [],
   "source": [
    "submission = pd.DataFrame({\n",
    "        \"id_num\": id_num,\n",
    "        \"is_pass\": y_submit\n",
    "    })\n",
    "submission.to_csv('data/submission_Giyn.csv', index=False)"
   ]
  }
 ],
 "metadata": {
  "kernelspec": {
   "display_name": "PyCharm (QG2021DMGroupMidExam)",
   "language": "python",
   "name": "pycharm-696d23ad"
  },
  "language_info": {
   "codemirror_mode": {
    "name": "ipython",
    "version": 3
   },
   "file_extension": ".py",
   "mimetype": "text/x-python",
   "name": "python",
   "nbconvert_exporter": "python",
   "pygments_lexer": "ipython3",
   "version": "3.7.7"
  }
 },
 "nbformat": 4,
 "nbformat_minor": 4
}
