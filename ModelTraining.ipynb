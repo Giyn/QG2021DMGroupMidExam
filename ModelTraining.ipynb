{
 "cells": [
  {
   "cell_type": "markdown",
   "metadata": {
    "jupyter": {
     "outputs_hidden": true
    }
   },
   "source": [
    "# 相关设置"
   ]
  },
  {
   "cell_type": "code",
   "execution_count": 35,
   "metadata": {},
   "outputs": [],
   "source": [
    "from IPython.core.interactiveshell import InteractiveShell\n",
    "\n",
    "import pandas as pd\n",
    "import numpy as np\n",
    "import matplotlib.pyplot as plt\n",
    "import seaborn as sns\n",
    "%matplotlib inline\n",
    "\n",
    "InteractiveShell.ast_node_interactivity = \"all\"  # 一个cell显示多输出\n",
    "\n",
    "pd.set_option('display.max_rows', 100)  # 设置最大显示100行\n",
    "pd.set_option('display.max_columns', 100)  # 设置最大显示100列"
   ]
  },
  {
   "cell_type": "code",
   "execution_count": 36,
   "metadata": {},
   "outputs": [
    {
     "name": "stdout",
     "output_type": "stream",
     "text": [
      "(26956, 12)\n"
     ]
    }
   ],
   "source": [
    "EDA_data = pd.read_csv('data/after_EDA/EDA_data.csv')\n",
    "print(EDA_data.shape)"
   ]
  },
  {
   "cell_type": "code",
   "execution_count": 37,
   "metadata": {},
   "outputs": [
    {
     "name": "stdout",
     "output_type": "stream",
     "text": [
      "(21564, 12)\n",
      "(5392, 12)\n"
     ]
    }
   ],
   "source": [
    "from sklearn.model_selection import train_test_split\n",
    "\n",
    "train_set, test_set = train_test_split(EDA_data, test_size=0.2, random_state=412)\n",
    "\n",
    "print(train_set.shape)\n",
    "print(test_set.shape)"
   ]
  },
  {
   "cell_type": "code",
   "execution_count": 38,
   "metadata": {},
   "outputs": [],
   "source": [
    "X_train = train_set[train_set.columns.difference(['is_pass'])].values\n",
    "y_train = train_set[['is_pass']].values\n",
    "X_test = test_set[test_set.columns.difference(['is_pass'])].values\n",
    "y_test = test_set[['is_pass']].values"
   ]
  },
  {
   "cell_type": "markdown",
   "metadata": {},
   "source": [
    "# 评估方法"
   ]
  },
  {
   "cell_type": "code",
   "execution_count": 39,
   "metadata": {},
   "outputs": [],
   "source": [
    "from sklearn.metrics import accuracy_score\n",
    "from sklearn.metrics import confusion_matrix\n",
    "from sklearn.metrics import roc_auc_score\n",
    "from sklearn.metrics import classification_report"
   ]
  },
  {
   "cell_type": "markdown",
   "metadata": {},
   "source": [
    "# 随机森林"
   ]
  },
  {
   "cell_type": "code",
   "execution_count": 40,
   "metadata": {},
   "outputs": [
    {
     "data": {
      "text/plain": [
       "RandomForestClassifier(n_estimators=10, n_jobs=1)"
      ]
     },
     "execution_count": 40,
     "metadata": {},
     "output_type": "execute_result"
    },
    {
     "name": "stdout",
     "output_type": "stream",
     "text": [
      "accuracy_score:  0.699740356083086\n",
      "confusion_matrix:  [[ 747  918]\n",
      " [ 701 3026]]\n",
      "roc_auc_score:  0.6302808577292076\n",
      "classification_report:                precision    recall  f1-score   support\n",
      "\n",
      "           0       0.52      0.45      0.48      1665\n",
      "           1       0.77      0.81      0.79      3727\n",
      "\n",
      "    accuracy                           0.70      5392\n",
      "   macro avg       0.64      0.63      0.63      5392\n",
      "weighted avg       0.69      0.70      0.69      5392\n",
      "\n"
     ]
    }
   ],
   "source": [
    "from sklearn.ensemble import RandomForestClassifier\n",
    "\n",
    "rf_model = RandomForestClassifier(bootstrap=True, class_weight=None, criterion='gini',\n",
    "            max_depth=None, max_features='auto', max_leaf_nodes=None,\n",
    "            min_samples_leaf=1, min_samples_split=2,\n",
    "            min_weight_fraction_leaf=0.0, n_estimators=10, n_jobs=1,\n",
    "            oob_score=False, random_state=None, verbose=0,\n",
    "            warm_start=False)\n",
    "\n",
    "rf_model.fit(X_train, y_train.ravel())\n",
    "y_predict = rf_model.predict(X=X_test)\n",
    "\n",
    "print(\"accuracy_score: \", accuracy_score(y_test, y_predict))\n",
    "print('confusion_matrix: ', confusion_matrix(y_test, y_predict))\n",
    "print('roc_auc_score: ', roc_auc_score(y_test, y_predict))\n",
    "print('classification_report: ', classification_report(y_test, y_predict))"
   ]
  },
  {
   "cell_type": "markdown",
   "metadata": {},
   "source": [
    "# LightGBM"
   ]
  },
  {
   "cell_type": "code",
   "execution_count": 41,
   "metadata": {},
   "outputs": [
    {
     "name": "stderr",
     "output_type": "stream",
     "text": [
      "S:\\DataMining\\venv\\lib\\site-packages\\lightgbm\\basic.py:154: UserWarning: Converting column-vector to 1d array\n",
      "  _log_warning('Converting column-vector to 1d array')\n"
     ]
    },
    {
     "name": "stdout",
     "output_type": "stream",
     "text": [
      "Training until validation scores don't improve for 100 rounds\n",
      "[100]\ttraining's multi_error: 0.250927\tvalid_1's multi_error: 0.284866\n",
      "[200]\ttraining's multi_error: 0.242719\tvalid_1's multi_error: 0.285052\n",
      "Early stopping, best iteration is:\n",
      "[150]\ttraining's multi_error: 0.246939\tvalid_1's multi_error: 0.283197\n",
      "accuracy_score:  0.7168026706231454\n",
      "confusion_matrix:  [[ 533 1132]\n",
      " [ 395 3332]]\n",
      "roc_auc_score:  0.6070683777418417\n",
      "classification_report:                precision    recall  f1-score   support\n",
      "\n",
      "           0       0.57      0.32      0.41      1665\n",
      "           1       0.75      0.89      0.81      3727\n",
      "\n",
      "    accuracy                           0.72      5392\n",
      "   macro avg       0.66      0.61      0.61      5392\n",
      "weighted avg       0.69      0.72      0.69      5392\n",
      "\n"
     ]
    }
   ],
   "source": [
    "import lightgbm as lgb\n",
    "\n",
    "trn_data = lgb.Dataset(X_train, y_train)\n",
    "val_data = lgb.Dataset(X_test, y_test)\n",
    "\n",
    "params = {  \n",
    "    'boosting_type': 'gbdt',  \n",
    "    'objective': 'multiclass',  \n",
    "    'num_class': 7,  \n",
    "    'metric': 'multi_error',  \n",
    "    'num_leaves': 120,  \n",
    "    'min_data_in_leaf': 100,  \n",
    "    'learning_rate': 0.06,  \n",
    "    'feature_fraction': 0.8,  \n",
    "    'bagging_fraction': 0.8,  \n",
    "    'bagging_freq': 5,  \n",
    "    'lambda_l1': 0.4,  \n",
    "    'lambda_l2': 0.5,  \n",
    "    'min_gain_to_split': 0.2,  \n",
    "    'verbose': -1, \n",
    "}\n",
    "\n",
    "lgb_model = lgb.train(params, \n",
    "                      trn_data, \n",
    "                      num_boost_round = 1000,\n",
    "                      valid_sets = [trn_data,val_data], \n",
    "                      verbose_eval = 100, \n",
    "                      early_stopping_rounds = 100)\n",
    "\n",
    "y_prob = lgb_model.predict(X_test, num_iteration=lgb_model.best_iteration)\n",
    "y_predict = [list(x).index(max(x)) for x in y_prob]\n",
    "\n",
    "print(\"accuracy_score: \", accuracy_score(y_test, y_predict))\n",
    "print('confusion_matrix: ', confusion_matrix(y_test, y_predict))\n",
    "print('roc_auc_score: ', roc_auc_score(y_test, y_predict))\n",
    "print('classification_report: ', classification_report(y_test, y_predict))"
   ]
  },
  {
   "cell_type": "markdown",
   "metadata": {},
   "source": [
    "# A榜提交数据生成"
   ]
  },
  {
   "cell_type": "code",
   "execution_count": 52,
   "metadata": {},
   "outputs": [
    {
     "data": {
      "text/html": [
       "<div>\n",
       "<style scoped>\n",
       "    .dataframe tbody tr th:only-of-type {\n",
       "        vertical-align: middle;\n",
       "    }\n",
       "\n",
       "    .dataframe tbody tr th {\n",
       "        vertical-align: top;\n",
       "    }\n",
       "\n",
       "    .dataframe thead th {\n",
       "        text-align: right;\n",
       "    }\n",
       "</style>\n",
       "<table border=\"1\" class=\"dataframe\">\n",
       "  <thead>\n",
       "    <tr style=\"text-align: right;\">\n",
       "      <th></th>\n",
       "      <th>id_num</th>\n",
       "      <th>program_type</th>\n",
       "      <th>program_id</th>\n",
       "      <th>program_duration</th>\n",
       "      <th>test_id</th>\n",
       "      <th>test_type</th>\n",
       "      <th>difficulty_level</th>\n",
       "      <th>trainee_id</th>\n",
       "      <th>gender</th>\n",
       "      <th>education</th>\n",
       "      <th>city_tier</th>\n",
       "      <th>age</th>\n",
       "      <th>total_programs_enrolled</th>\n",
       "      <th>is_handicapped</th>\n",
       "      <th>trainee_engagement_rating</th>\n",
       "      <th>is_pass</th>\n",
       "    </tr>\n",
       "  </thead>\n",
       "  <tbody>\n",
       "    <tr>\n",
       "      <th>0</th>\n",
       "      <td>1442_124</td>\n",
       "      <td>Y</td>\n",
       "      <td>Y_4</td>\n",
       "      <td>121</td>\n",
       "      <td>124</td>\n",
       "      <td>online</td>\n",
       "      <td>easy</td>\n",
       "      <td>1442</td>\n",
       "      <td>M</td>\n",
       "      <td>High School Diploma</td>\n",
       "      <td>2</td>\n",
       "      <td>NaN</td>\n",
       "      <td>8</td>\n",
       "      <td>N</td>\n",
       "      <td>4.0</td>\n",
       "      <td>NaN</td>\n",
       "    </tr>\n",
       "    <tr>\n",
       "      <th>1</th>\n",
       "      <td>12373_38</td>\n",
       "      <td>T</td>\n",
       "      <td>T_2</td>\n",
       "      <td>117</td>\n",
       "      <td>38</td>\n",
       "      <td>online</td>\n",
       "      <td>easy</td>\n",
       "      <td>12373</td>\n",
       "      <td>F</td>\n",
       "      <td>High School Diploma</td>\n",
       "      <td>4</td>\n",
       "      <td>31.0</td>\n",
       "      <td>2</td>\n",
       "      <td>N</td>\n",
       "      <td>3.0</td>\n",
       "      <td>NaN</td>\n",
       "    </tr>\n",
       "    <tr>\n",
       "      <th>2</th>\n",
       "      <td>12035_21</td>\n",
       "      <td>T</td>\n",
       "      <td>T_3</td>\n",
       "      <td>134</td>\n",
       "      <td>21</td>\n",
       "      <td>offline</td>\n",
       "      <td>easy</td>\n",
       "      <td>12035</td>\n",
       "      <td>F</td>\n",
       "      <td>High School Diploma</td>\n",
       "      <td>4</td>\n",
       "      <td>NaN</td>\n",
       "      <td>2</td>\n",
       "      <td>N</td>\n",
       "      <td>1.0</td>\n",
       "      <td>NaN</td>\n",
       "    </tr>\n",
       "    <tr>\n",
       "      <th>3</th>\n",
       "      <td>11148_86</td>\n",
       "      <td>V</td>\n",
       "      <td>V_3</td>\n",
       "      <td>131</td>\n",
       "      <td>86</td>\n",
       "      <td>offline</td>\n",
       "      <td>vary hard</td>\n",
       "      <td>11148</td>\n",
       "      <td>M</td>\n",
       "      <td>Matriculation</td>\n",
       "      <td>1</td>\n",
       "      <td>NaN</td>\n",
       "      <td>2</td>\n",
       "      <td>N</td>\n",
       "      <td>1.0</td>\n",
       "      <td>NaN</td>\n",
       "    </tr>\n",
       "    <tr>\n",
       "      <th>4</th>\n",
       "      <td>1362_131</td>\n",
       "      <td>Y</td>\n",
       "      <td>Y_3</td>\n",
       "      <td>135</td>\n",
       "      <td>131</td>\n",
       "      <td>online</td>\n",
       "      <td>easy</td>\n",
       "      <td>1362</td>\n",
       "      <td>M</td>\n",
       "      <td>High School Diploma</td>\n",
       "      <td>2</td>\n",
       "      <td>45.0</td>\n",
       "      <td>2</td>\n",
       "      <td>N</td>\n",
       "      <td>4.0</td>\n",
       "      <td>NaN</td>\n",
       "    </tr>\n",
       "  </tbody>\n",
       "</table>\n",
       "</div>"
      ],
      "text/plain": [
       "     id_num program_type program_id  program_duration  test_id test_type  \\\n",
       "0  1442_124            Y        Y_4               121      124    online   \n",
       "1  12373_38            T        T_2               117       38    online   \n",
       "2  12035_21            T        T_3               134       21   offline   \n",
       "3  11148_86            V        V_3               131       86   offline   \n",
       "4  1362_131            Y        Y_3               135      131    online   \n",
       "\n",
       "  difficulty_level  trainee_id gender            education  city_tier   age  \\\n",
       "0             easy        1442      M  High School Diploma          2   NaN   \n",
       "1             easy       12373      F  High School Diploma          4  31.0   \n",
       "2             easy       12035      F  High School Diploma          4   NaN   \n",
       "3        vary hard       11148      M        Matriculation          1   NaN   \n",
       "4             easy        1362      M  High School Diploma          2  45.0   \n",
       "\n",
       "   total_programs_enrolled is_handicapped  trainee_engagement_rating  is_pass  \n",
       "0                        8              N                        4.0      NaN  \n",
       "1                        2              N                        3.0      NaN  \n",
       "2                        2              N                        1.0      NaN  \n",
       "3                        2              N                        1.0      NaN  \n",
       "4                        2              N                        4.0      NaN  "
      ]
     },
     "execution_count": 52,
     "metadata": {},
     "output_type": "execute_result"
    }
   ],
   "source": [
    "test_data = pd.read_csv('data/test/test1.csv')\n",
    "test_data.head()"
   ]
  },
  {
   "cell_type": "markdown",
   "metadata": {},
   "source": [
    "# 去除无用列"
   ]
  },
  {
   "cell_type": "code",
   "execution_count": 53,
   "metadata": {},
   "outputs": [],
   "source": [
    "test_data.drop(['program_type', 'id_num', 'program_id', 'test_id', 'trainee_id'], inplace=True, axis=1)"
   ]
  },
  {
   "cell_type": "markdown",
   "metadata": {},
   "source": [
    "# 缺失值填充"
   ]
  },
  {
   "cell_type": "code",
   "execution_count": 54,
   "metadata": {},
   "outputs": [],
   "source": [
    "test_data['age'].fillna(test_data['age'].mean(), inplace=True)"
   ]
  },
  {
   "cell_type": "markdown",
   "metadata": {},
   "source": [
    "# 独热编码"
   ]
  },
  {
   "cell_type": "code",
   "execution_count": 55,
   "metadata": {},
   "outputs": [],
   "source": [
    "test_data = test_data.join(pd.get_dummies(test_data[[\"gender\"]]))"
   ]
  },
  {
   "cell_type": "markdown",
   "metadata": {},
   "source": [
    "# 去除独热编码的列"
   ]
  },
  {
   "cell_type": "code",
   "execution_count": 56,
   "metadata": {},
   "outputs": [],
   "source": [
    "test_data.drop(['gender'], inplace=True, axis=1)"
   ]
  },
  {
   "cell_type": "markdown",
   "metadata": {},
   "source": [
    "# 特征编码"
   ]
  },
  {
   "cell_type": "code",
   "execution_count": 57,
   "metadata": {},
   "outputs": [],
   "source": [
    "test_type_map = {'online': 1, 'offline': 2}\n",
    "difficulty_level_map = {'easy': 1, 'intermediate': 2, 'hard': 3, 'vary hard': 4}\n",
    "education_map = {'No Qualification': 1, 'High School Diploma': 2, 'Matriculation': 3, 'Bachelors': 4, 'Masters': 5}\n",
    "is_handicapped_map = {'N': 1, 'Y': 2}"
   ]
  },
  {
   "cell_type": "code",
   "execution_count": 58,
   "metadata": {},
   "outputs": [],
   "source": [
    "test_data['test_type'] = test_data['test_type'].map(test_type_map)\n",
    "test_data['difficulty_level'] = test_data['difficulty_level'].map(difficulty_level_map)\n",
    "test_data['education'] = test_data['education'].map(education_map)\n",
    "test_data['is_handicapped'] = test_data['is_handicapped'].map(is_handicapped_map)"
   ]
  },
  {
   "cell_type": "code",
   "execution_count": 59,
   "metadata": {},
   "outputs": [],
   "source": [
    "test_data.drop(['is_pass'], axis=1, inplace=True)"
   ]
  },
  {
   "cell_type": "code",
   "execution_count": 60,
   "metadata": {},
   "outputs": [
    {
     "data": {
      "text/html": [
       "<div>\n",
       "<style scoped>\n",
       "    .dataframe tbody tr th:only-of-type {\n",
       "        vertical-align: middle;\n",
       "    }\n",
       "\n",
       "    .dataframe tbody tr th {\n",
       "        vertical-align: top;\n",
       "    }\n",
       "\n",
       "    .dataframe thead th {\n",
       "        text-align: right;\n",
       "    }\n",
       "</style>\n",
       "<table border=\"1\" class=\"dataframe\">\n",
       "  <thead>\n",
       "    <tr style=\"text-align: right;\">\n",
       "      <th></th>\n",
       "      <th>program_duration</th>\n",
       "      <th>test_type</th>\n",
       "      <th>difficulty_level</th>\n",
       "      <th>education</th>\n",
       "      <th>city_tier</th>\n",
       "      <th>age</th>\n",
       "      <th>total_programs_enrolled</th>\n",
       "      <th>is_handicapped</th>\n",
       "      <th>trainee_engagement_rating</th>\n",
       "      <th>gender_F</th>\n",
       "      <th>gender_M</th>\n",
       "    </tr>\n",
       "  </thead>\n",
       "  <tbody>\n",
       "    <tr>\n",
       "      <th>0</th>\n",
       "      <td>121</td>\n",
       "      <td>1</td>\n",
       "      <td>1</td>\n",
       "      <td>2</td>\n",
       "      <td>2</td>\n",
       "      <td>36.561642</td>\n",
       "      <td>8</td>\n",
       "      <td>1</td>\n",
       "      <td>4.0</td>\n",
       "      <td>0</td>\n",
       "      <td>1</td>\n",
       "    </tr>\n",
       "    <tr>\n",
       "      <th>1</th>\n",
       "      <td>117</td>\n",
       "      <td>1</td>\n",
       "      <td>1</td>\n",
       "      <td>2</td>\n",
       "      <td>4</td>\n",
       "      <td>31.000000</td>\n",
       "      <td>2</td>\n",
       "      <td>1</td>\n",
       "      <td>3.0</td>\n",
       "      <td>1</td>\n",
       "      <td>0</td>\n",
       "    </tr>\n",
       "    <tr>\n",
       "      <th>2</th>\n",
       "      <td>134</td>\n",
       "      <td>2</td>\n",
       "      <td>1</td>\n",
       "      <td>2</td>\n",
       "      <td>4</td>\n",
       "      <td>36.561642</td>\n",
       "      <td>2</td>\n",
       "      <td>1</td>\n",
       "      <td>1.0</td>\n",
       "      <td>1</td>\n",
       "      <td>0</td>\n",
       "    </tr>\n",
       "    <tr>\n",
       "      <th>3</th>\n",
       "      <td>131</td>\n",
       "      <td>2</td>\n",
       "      <td>4</td>\n",
       "      <td>3</td>\n",
       "      <td>1</td>\n",
       "      <td>36.561642</td>\n",
       "      <td>2</td>\n",
       "      <td>1</td>\n",
       "      <td>1.0</td>\n",
       "      <td>0</td>\n",
       "      <td>1</td>\n",
       "    </tr>\n",
       "    <tr>\n",
       "      <th>4</th>\n",
       "      <td>135</td>\n",
       "      <td>1</td>\n",
       "      <td>1</td>\n",
       "      <td>2</td>\n",
       "      <td>2</td>\n",
       "      <td>45.000000</td>\n",
       "      <td>2</td>\n",
       "      <td>1</td>\n",
       "      <td>4.0</td>\n",
       "      <td>0</td>\n",
       "      <td>1</td>\n",
       "    </tr>\n",
       "    <tr>\n",
       "      <th>...</th>\n",
       "      <td>...</td>\n",
       "      <td>...</td>\n",
       "      <td>...</td>\n",
       "      <td>...</td>\n",
       "      <td>...</td>\n",
       "      <td>...</td>\n",
       "      <td>...</td>\n",
       "      <td>...</td>\n",
       "      <td>...</td>\n",
       "      <td>...</td>\n",
       "      <td>...</td>\n",
       "    </tr>\n",
       "    <tr>\n",
       "      <th>11679</th>\n",
       "      <td>130</td>\n",
       "      <td>2</td>\n",
       "      <td>1</td>\n",
       "      <td>2</td>\n",
       "      <td>3</td>\n",
       "      <td>36.561642</td>\n",
       "      <td>1</td>\n",
       "      <td>1</td>\n",
       "      <td>2.0</td>\n",
       "      <td>1</td>\n",
       "      <td>0</td>\n",
       "    </tr>\n",
       "    <tr>\n",
       "      <th>11680</th>\n",
       "      <td>117</td>\n",
       "      <td>1</td>\n",
       "      <td>1</td>\n",
       "      <td>2</td>\n",
       "      <td>2</td>\n",
       "      <td>45.000000</td>\n",
       "      <td>2</td>\n",
       "      <td>1</td>\n",
       "      <td>2.0</td>\n",
       "      <td>1</td>\n",
       "      <td>0</td>\n",
       "    </tr>\n",
       "    <tr>\n",
       "      <th>11681</th>\n",
       "      <td>120</td>\n",
       "      <td>1</td>\n",
       "      <td>1</td>\n",
       "      <td>3</td>\n",
       "      <td>2</td>\n",
       "      <td>36.561642</td>\n",
       "      <td>3</td>\n",
       "      <td>1</td>\n",
       "      <td>4.0</td>\n",
       "      <td>0</td>\n",
       "      <td>1</td>\n",
       "    </tr>\n",
       "    <tr>\n",
       "      <th>11682</th>\n",
       "      <td>131</td>\n",
       "      <td>2</td>\n",
       "      <td>2</td>\n",
       "      <td>2</td>\n",
       "      <td>3</td>\n",
       "      <td>27.000000</td>\n",
       "      <td>2</td>\n",
       "      <td>1</td>\n",
       "      <td>2.0</td>\n",
       "      <td>0</td>\n",
       "      <td>1</td>\n",
       "    </tr>\n",
       "    <tr>\n",
       "      <th>11683</th>\n",
       "      <td>121</td>\n",
       "      <td>1</td>\n",
       "      <td>1</td>\n",
       "      <td>2</td>\n",
       "      <td>3</td>\n",
       "      <td>31.000000</td>\n",
       "      <td>2</td>\n",
       "      <td>1</td>\n",
       "      <td>4.0</td>\n",
       "      <td>1</td>\n",
       "      <td>0</td>\n",
       "    </tr>\n",
       "  </tbody>\n",
       "</table>\n",
       "<p>11684 rows × 11 columns</p>\n",
       "</div>"
      ],
      "text/plain": [
       "       program_duration  test_type  difficulty_level  education  city_tier  \\\n",
       "0                   121          1                 1          2          2   \n",
       "1                   117          1                 1          2          4   \n",
       "2                   134          2                 1          2          4   \n",
       "3                   131          2                 4          3          1   \n",
       "4                   135          1                 1          2          2   \n",
       "...                 ...        ...               ...        ...        ...   \n",
       "11679               130          2                 1          2          3   \n",
       "11680               117          1                 1          2          2   \n",
       "11681               120          1                 1          3          2   \n",
       "11682               131          2                 2          2          3   \n",
       "11683               121          1                 1          2          3   \n",
       "\n",
       "             age  total_programs_enrolled  is_handicapped  \\\n",
       "0      36.561642                        8               1   \n",
       "1      31.000000                        2               1   \n",
       "2      36.561642                        2               1   \n",
       "3      36.561642                        2               1   \n",
       "4      45.000000                        2               1   \n",
       "...          ...                      ...             ...   \n",
       "11679  36.561642                        1               1   \n",
       "11680  45.000000                        2               1   \n",
       "11681  36.561642                        3               1   \n",
       "11682  27.000000                        2               1   \n",
       "11683  31.000000                        2               1   \n",
       "\n",
       "       trainee_engagement_rating  gender_F  gender_M  \n",
       "0                            4.0         0         1  \n",
       "1                            3.0         1         0  \n",
       "2                            1.0         1         0  \n",
       "3                            1.0         0         1  \n",
       "4                            4.0         0         1  \n",
       "...                          ...       ...       ...  \n",
       "11679                        2.0         1         0  \n",
       "11680                        2.0         1         0  \n",
       "11681                        4.0         0         1  \n",
       "11682                        2.0         0         1  \n",
       "11683                        4.0         1         0  \n",
       "\n",
       "[11684 rows x 11 columns]"
      ]
     },
     "execution_count": 60,
     "metadata": {},
     "output_type": "execute_result"
    }
   ],
   "source": [
    "test_data"
   ]
  },
  {
   "cell_type": "code",
   "execution_count": 61,
   "metadata": {},
   "outputs": [],
   "source": [
    "X_submit = test_data.values"
   ]
  },
  {
   "cell_type": "code",
   "execution_count": 62,
   "metadata": {},
   "outputs": [],
   "source": [
    "y_prob = lgb_model.predict(X_submit, num_iteration=lgb_model.best_iteration)\n",
    "y_submit = [list(x).index(max(x)) for x in y_prob]"
   ]
  },
  {
   "cell_type": "code",
   "execution_count": 65,
   "metadata": {},
   "outputs": [],
   "source": [
    "# print(y_submit)"
   ]
  },
  {
   "cell_type": "code",
   "execution_count": 66,
   "metadata": {},
   "outputs": [],
   "source": [
    "id_num = pd.read_csv('data/test/test1.csv')['id_num']"
   ]
  },
  {
   "cell_type": "code",
   "execution_count": 67,
   "metadata": {},
   "outputs": [],
   "source": [
    "submission = pd.DataFrame({\n",
    "        \"id_num\": id_num,\n",
    "        \"is_pass\": y_submit\n",
    "    })\n",
    "submission.to_csv('data/submission_Giyn.csv', index=False)"
   ]
  }
 ],
 "metadata": {
  "kernelspec": {
   "display_name": "PyCharm (QG2021DMGroupMidExam)",
   "language": "python",
   "name": "pycharm-696d23ad"
  },
  "language_info": {
   "codemirror_mode": {
    "name": "ipython",
    "version": 3
   },
   "file_extension": ".py",
   "mimetype": "text/x-python",
   "name": "python",
   "nbconvert_exporter": "python",
   "pygments_lexer": "ipython3",
   "version": "3.7.7"
  }
 },
 "nbformat": 4,
 "nbformat_minor": 4
}
