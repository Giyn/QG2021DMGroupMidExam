{
 "cells": [
  {
   "cell_type": "markdown",
   "metadata": {
    "jupyter": {
     "outputs_hidden": true
    }
   },
   "source": [
    "# 相关设置"
   ]
  },
  {
   "cell_type": "code",
   "execution_count": 1,
   "metadata": {},
   "outputs": [],
   "source": [
    "from IPython.core.interactiveshell import InteractiveShell\n",
    "\n",
    "import pandas as pd\n",
    "import numpy as np\n",
    "import matplotlib.pyplot as plt\n",
    "import seaborn as sns\n",
    "%matplotlib inline\n",
    "\n",
    "InteractiveShell.ast_node_interactivity = \"all\"  # 一个cell显示多输出\n",
    "\n",
    "pd.set_option('display.max_rows', 100)  # 设置最大显示100行\n",
    "pd.set_option('display.max_columns', 100)  # 设置最大显示100列"
   ]
  },
  {
   "cell_type": "code",
   "execution_count": 6,
   "metadata": {},
   "outputs": [
    {
     "name": "stdout",
     "output_type": "stream",
     "text": [
      "(26956, 18)\n"
     ]
    }
   ],
   "source": [
    "EDA_data = pd.read_csv('data/after_EDA/EDA_data.csv')\n",
    "print(EDA_data.shape)"
   ]
  },
  {
   "cell_type": "code",
   "execution_count": 7,
   "metadata": {},
   "outputs": [
    {
     "name": "stdout",
     "output_type": "stream",
     "text": [
      "(21564, 18)\n",
      "(5392, 18)\n"
     ]
    }
   ],
   "source": [
    "from sklearn.model_selection import train_test_split\n",
    "\n",
    "train_set, test_set = train_test_split(EDA_data, test_size=0.2, random_state=412)\n",
    "\n",
    "print(train_set.shape)\n",
    "print(test_set.shape)"
   ]
  },
  {
   "cell_type": "code",
   "execution_count": 8,
   "metadata": {},
   "outputs": [],
   "source": [
    "X_train = train_set[train_set.columns.difference(['is_pass'])].values\n",
    "y_train = train_set[['is_pass']].values\n",
    "X_test = test_set[test_set.columns.difference(['is_pass'])].values\n",
    "y_test = test_set[['is_pass']].values"
   ]
  },
  {
   "cell_type": "markdown",
   "metadata": {},
   "source": [
    "# 评估方法"
   ]
  },
  {
   "cell_type": "code",
   "execution_count": 9,
   "metadata": {},
   "outputs": [],
   "source": [
    "from sklearn.metrics import accuracy_score\n",
    "from sklearn.metrics import confusion_matrix\n",
    "from sklearn.metrics import roc_auc_score\n",
    "from sklearn.metrics import classification_report"
   ]
  },
  {
   "cell_type": "markdown",
   "metadata": {},
   "source": [
    "# 随机森林"
   ]
  },
  {
   "cell_type": "code",
   "execution_count": 10,
   "metadata": {},
   "outputs": [
    {
     "data": {
      "text/plain": [
       "RandomForestClassifier(n_estimators=10, n_jobs=1)"
      ]
     },
     "execution_count": 10,
     "metadata": {},
     "output_type": "execute_result"
    },
    {
     "name": "stdout",
     "output_type": "stream",
     "text": [
      "accuracy_score:  0.6958456973293768\n",
      "confusion_matrix:  [[ 735  930]\n",
      " [ 710 3017]]\n",
      "roc_auc_score:  0.6254698487056953\n",
      "classification_report:                precision    recall  f1-score   support\n",
      "\n",
      "           0       0.51      0.44      0.47      1665\n",
      "           1       0.76      0.81      0.79      3727\n",
      "\n",
      "    accuracy                           0.70      5392\n",
      "   macro avg       0.64      0.63      0.63      5392\n",
      "weighted avg       0.69      0.70      0.69      5392\n",
      "\n"
     ]
    }
   ],
   "source": [
    "from sklearn.ensemble import RandomForestClassifier\n",
    "\n",
    "rf_model = RandomForestClassifier(bootstrap=True, class_weight=None, criterion='gini',\n",
    "            max_depth=None, max_features='auto', max_leaf_nodes=None,\n",
    "            min_samples_leaf=1, min_samples_split=2,\n",
    "            min_weight_fraction_leaf=0.0, n_estimators=10, n_jobs=1,\n",
    "            oob_score=False, random_state=None, verbose=0,\n",
    "            warm_start=False)\n",
    "\n",
    "rf_model.fit(X_train, y_train.ravel())\n",
    "y_predict = rf_model.predict(X=X_test)\n",
    "\n",
    "print(\"accuracy_score: \", accuracy_score(y_test, y_predict))\n",
    "print('confusion_matrix: ', confusion_matrix(y_test, y_predict))\n",
    "print('roc_auc_score: ', roc_auc_score(y_test, y_predict))\n",
    "print('classification_report: ', classification_report(y_test, y_predict))"
   ]
  },
  {
   "cell_type": "markdown",
   "metadata": {},
   "source": [
    "# LightGBM"
   ]
  },
  {
   "cell_type": "code",
   "execution_count": 13,
   "metadata": {},
   "outputs": [
    {
     "name": "stderr",
     "output_type": "stream",
     "text": [
      "S:\\DataMining\\venv\\lib\\site-packages\\lightgbm\\basic.py:154: UserWarning: Converting column-vector to 1d array\n",
      "  _log_warning('Converting column-vector to 1d array')\n"
     ]
    },
    {
     "name": "stdout",
     "output_type": "stream",
     "text": [
      "Training until validation scores don't improve for 100 rounds\n",
      "[100]\ttraining's multi_error: 0.251438\tvalid_1's multi_error: 0.283012\n",
      "Early stopping, best iteration is:\n",
      "[62]\ttraining's multi_error: 0.256539\tvalid_1's multi_error: 0.281157\n",
      "accuracy_score:  0.7188427299703264\n",
      "confusion_matrix:  [[ 505 1160]\n",
      " [ 356 3371]]\n",
      "roc_auc_score:  0.6038920594863713\n",
      "classification_report:                precision    recall  f1-score   support\n",
      "\n",
      "           0       0.59      0.30      0.40      1665\n",
      "           1       0.74      0.90      0.82      3727\n",
      "\n",
      "    accuracy                           0.72      5392\n",
      "   macro avg       0.67      0.60      0.61      5392\n",
      "weighted avg       0.70      0.72      0.69      5392\n",
      "\n"
     ]
    }
   ],
   "source": [
    "import lightgbm as lgb\n",
    "\n",
    "trn_data = lgb.Dataset(X_train, y_train)\n",
    "val_data = lgb.Dataset(X_test, y_test)\n",
    "\n",
    "params = {  \n",
    "    'boosting_type': 'gbdt',  \n",
    "    'objective': 'multiclass',  \n",
    "    'num_class': 7,  \n",
    "    'metric': 'multi_error',  \n",
    "    'num_leaves': 120,  \n",
    "    'min_data_in_leaf': 100,  \n",
    "    'learning_rate': 0.06,  \n",
    "    'feature_fraction': 0.8,  \n",
    "    'bagging_fraction': 0.8,  \n",
    "    'bagging_freq': 5,  \n",
    "    'lambda_l1': 0.4,  \n",
    "    'lambda_l2': 0.5,  \n",
    "    'min_gain_to_split': 0.2,  \n",
    "    'verbose': -1, \n",
    "}\n",
    "\n",
    "lgb_model = lgb.train(params, \n",
    "                      trn_data, \n",
    "                      num_boost_round = 1000,\n",
    "                      valid_sets = [trn_data,val_data], \n",
    "                      verbose_eval = 100, \n",
    "                      early_stopping_rounds = 100)\n",
    "\n",
    "y_prob = lgb_model.predict(X_test, num_iteration=lgb_model.best_iteration)\n",
    "y_predict = [list(x).index(max(x)) for x in y_prob]\n",
    "\n",
    "print(\"accuracy_score: \", accuracy_score(y_test, y_predict))\n",
    "print('confusion_matrix: ', confusion_matrix(y_test, y_predict))\n",
    "print('roc_auc_score: ', roc_auc_score(y_test, y_predict))\n",
    "print('classification_report: ', classification_report(y_test, y_predict))"
   ]
  },
  {
   "cell_type": "code",
   "execution_count": null,
   "metadata": {},
   "outputs": [],
   "source": []
  }
 ],
 "metadata": {
  "kernelspec": {
   "display_name": "PyCharm (QG2021DMGroupMidExam)",
   "language": "python",
   "name": "pycharm-696d23ad"
  },
  "language_info": {
   "codemirror_mode": {
    "name": "ipython",
    "version": 3
   },
   "file_extension": ".py",
   "mimetype": "text/x-python",
   "name": "python",
   "nbconvert_exporter": "python",
   "pygments_lexer": "ipython3",
   "version": "3.7.7"
  }
 },
 "nbformat": 4,
 "nbformat_minor": 4
}
