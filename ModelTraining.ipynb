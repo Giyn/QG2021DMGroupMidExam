{
 "cells": [
  {
   "cell_type": "markdown",
   "metadata": {
    "jupyter": {
     "outputs_hidden": true
    }
   },
   "source": [
    "# 相关设置"
   ]
  },
  {
   "cell_type": "code",
   "execution_count": 315,
   "metadata": {},
   "outputs": [],
   "source": [
    "from IPython.core.interactiveshell import InteractiveShell\n",
    "\n",
    "import pandas as pd\n",
    "import numpy as np\n",
    "import matplotlib.pyplot as plt\n",
    "import seaborn as sns\n",
    "%matplotlib inline\n",
    "\n",
    "InteractiveShell.ast_node_interactivity = \"all\"  # 一个cell显示多输出\n",
    "\n",
    "pd.set_option('display.max_rows', 100)  # 设置最大显示100行\n",
    "pd.set_option('display.max_columns', 100)  # 设置最大显示100列"
   ]
  },
  {
   "cell_type": "code",
   "execution_count": 316,
   "metadata": {},
   "outputs": [
    {
     "name": "stdout",
     "output_type": "stream",
     "text": [
      "(45211, 8)\n"
     ]
    }
   ],
   "source": [
    "EDA_data = pd.read_csv('data/after_EDA/EDA_data.csv')\n",
    "print(EDA_data.shape)"
   ]
  },
  {
   "cell_type": "code",
   "execution_count": 317,
   "metadata": {},
   "outputs": [
    {
     "data": {
      "text/plain": [
       "1    31427\n",
       "0    13784\n",
       "Name: is_pass, dtype: int64"
      ]
     },
     "execution_count": 317,
     "metadata": {},
     "output_type": "execute_result"
    }
   ],
   "source": [
    "EDA_data['is_pass'].value_counts()"
   ]
  },
  {
   "cell_type": "code",
   "execution_count": 318,
   "metadata": {},
   "outputs": [
    {
     "data": {
      "text/html": [
       "<div>\n",
       "<style scoped>\n",
       "    .dataframe tbody tr th:only-of-type {\n",
       "        vertical-align: middle;\n",
       "    }\n",
       "\n",
       "    .dataframe tbody tr th {\n",
       "        vertical-align: top;\n",
       "    }\n",
       "\n",
       "    .dataframe thead th {\n",
       "        text-align: right;\n",
       "    }\n",
       "</style>\n",
       "<table border=\"1\" class=\"dataframe\">\n",
       "  <thead>\n",
       "    <tr style=\"text-align: right;\">\n",
       "      <th></th>\n",
       "      <th>test_type</th>\n",
       "      <th>difficulty_level</th>\n",
       "      <th>gender</th>\n",
       "      <th>education</th>\n",
       "      <th>city_tier</th>\n",
       "      <th>is_handicapped</th>\n",
       "      <th>trainee_engagement_rating</th>\n",
       "      <th>is_pass</th>\n",
       "    </tr>\n",
       "  </thead>\n",
       "  <tbody>\n",
       "    <tr>\n",
       "      <th>0</th>\n",
       "      <td>1</td>\n",
       "      <td>2</td>\n",
       "      <td>0</td>\n",
       "      <td>3</td>\n",
       "      <td>3.0</td>\n",
       "      <td>0</td>\n",
       "      <td>1.0</td>\n",
       "      <td>0</td>\n",
       "    </tr>\n",
       "    <tr>\n",
       "      <th>1</th>\n",
       "      <td>1</td>\n",
       "      <td>1</td>\n",
       "      <td>1</td>\n",
       "      <td>2</td>\n",
       "      <td>4.0</td>\n",
       "      <td>0</td>\n",
       "      <td>3.0</td>\n",
       "      <td>1</td>\n",
       "    </tr>\n",
       "    <tr>\n",
       "      <th>2</th>\n",
       "      <td>0</td>\n",
       "      <td>1</td>\n",
       "      <td>0</td>\n",
       "      <td>3</td>\n",
       "      <td>1.0</td>\n",
       "      <td>0</td>\n",
       "      <td>2.0</td>\n",
       "      <td>1</td>\n",
       "    </tr>\n",
       "    <tr>\n",
       "      <th>3</th>\n",
       "      <td>1</td>\n",
       "      <td>1</td>\n",
       "      <td>1</td>\n",
       "      <td>3</td>\n",
       "      <td>3.0</td>\n",
       "      <td>0</td>\n",
       "      <td>1.0</td>\n",
       "      <td>1</td>\n",
       "    </tr>\n",
       "    <tr>\n",
       "      <th>4</th>\n",
       "      <td>1</td>\n",
       "      <td>2</td>\n",
       "      <td>1</td>\n",
       "      <td>2</td>\n",
       "      <td>1.0</td>\n",
       "      <td>0</td>\n",
       "      <td>4.0</td>\n",
       "      <td>1</td>\n",
       "    </tr>\n",
       "  </tbody>\n",
       "</table>\n",
       "</div>"
      ],
      "text/plain": [
       "   test_type  difficulty_level  gender  education  city_tier  is_handicapped  \\\n",
       "0          1                 2       0          3        3.0               0   \n",
       "1          1                 1       1          2        4.0               0   \n",
       "2          0                 1       0          3        1.0               0   \n",
       "3          1                 1       1          3        3.0               0   \n",
       "4          1                 2       1          2        1.0               0   \n",
       "\n",
       "   trainee_engagement_rating  is_pass  \n",
       "0                        1.0        0  \n",
       "1                        3.0        1  \n",
       "2                        2.0        1  \n",
       "3                        1.0        1  \n",
       "4                        4.0        1  "
      ]
     },
     "execution_count": 318,
     "metadata": {},
     "output_type": "execute_result"
    }
   ],
   "source": [
    "EDA_data.head()"
   ]
  },
  {
   "cell_type": "code",
   "execution_count": 319,
   "metadata": {},
   "outputs": [],
   "source": [
    "pos_data = EDA_data[EDA_data['is_pass'] == 1].values\n",
    "neg_data = EDA_data[EDA_data['is_pass'] == 0].values"
   ]
  },
  {
   "cell_type": "markdown",
   "metadata": {},
   "source": [
    "# SMOTE 算法"
   ]
  },
  {
   "cell_type": "code",
   "execution_count": 320,
   "metadata": {},
   "outputs": [],
   "source": [
    "import random\n",
    "from sklearn.neighbors import NearestNeighbors\n",
    "\n",
    "class Smote:\n",
    "    def __init__(self, samples, N=10, k=5):\n",
    "        self.n_samples, self.n_attrs = samples.shape\n",
    "        self.N = N\n",
    "        self.k = k\n",
    "        self.samples = samples\n",
    "        self.new_index = 0\n",
    "\n",
    "    def over_sampling(self):\n",
    "        N_ = int(self.N / 100)\n",
    "        self.synthetic = np.zeros((self.n_samples * N_, self.n_attrs))\n",
    "        neighbors = NearestNeighbors(n_neighbors=self.k).fit(self.samples)\n",
    "        # print('neighbors', neighbors)\n",
    "        for i in range(len(self.samples)):\n",
    "            # print('samples', self.samples[i])\n",
    "            # Finds the K-neighbors of a point.\n",
    "            nnarray = neighbors.kneighbors(self.samples[i].reshape((1, -1)),\n",
    "                                           return_distance=False)[0]\n",
    "            # print('nna', nnarray)\n",
    "            self._populate(N_, i, nnarray)\n",
    "        return self.synthetic\n",
    "\n",
    "    # for each minority class sample i ,choose N of the k nearest neighbors and generate N synthetic samples.\n",
    "    def _populate(self, N, i, nnarray):\n",
    "        for j in range(N):\n",
    "            # print('j', j)\n",
    "            nn = random.randint(0, self.k - 1)  # 包括end\n",
    "            dif = self.samples[nnarray[nn]] - self.samples[i]\n",
    "            gap = random.random()\n",
    "            self.synthetic[self.new_index] = self.samples[i] + gap * dif\n",
    "            self.new_index += 1\n",
    "            # print(self.new_index)"
   ]
  },
  {
   "cell_type": "code",
   "execution_count": 321,
   "metadata": {},
   "outputs": [],
   "source": [
    "# smote = Smote(neg_data, N=100)\n",
    "# smote_neg_data = smote.over_sampling()"
   ]
  },
  {
   "cell_type": "code",
   "execution_count": 322,
   "metadata": {},
   "outputs": [],
   "source": [
    "# new_neg_data = np.vstack((neg_data, smote_neg_data))"
   ]
  },
  {
   "cell_type": "code",
   "execution_count": 323,
   "metadata": {},
   "outputs": [],
   "source": [
    "# len(new_neg_data)\n",
    "# len(pos_data)"
   ]
  },
  {
   "cell_type": "code",
   "execution_count": 324,
   "metadata": {},
   "outputs": [],
   "source": [
    "# new_data = pd.DataFrame(np.vstack((new_neg_data, pos_data)), columns=EDA_data.columns)"
   ]
  },
  {
   "cell_type": "code",
   "execution_count": 325,
   "metadata": {},
   "outputs": [
    {
     "name": "stdout",
     "output_type": "stream",
     "text": [
      "(36168, 8)\n",
      "(9043, 8)\n"
     ]
    }
   ],
   "source": [
    "from sklearn.model_selection import train_test_split\n",
    "\n",
    "train_set, test_set = train_test_split(EDA_data, test_size=0.2, random_state=412)\n",
    "\n",
    "print(train_set.shape)\n",
    "print(test_set.shape)"
   ]
  },
  {
   "cell_type": "code",
   "execution_count": 326,
   "metadata": {},
   "outputs": [],
   "source": [
    "X_train = train_set[train_set.columns.difference(['is_pass'])].values\n",
    "y_train = train_set[['is_pass']].values\n",
    "X_test = test_set[test_set.columns.difference(['is_pass'])].values\n",
    "y_test = test_set[['is_pass']].values"
   ]
  },
  {
   "cell_type": "markdown",
   "metadata": {},
   "source": [
    "# 评估方法"
   ]
  },
  {
   "cell_type": "code",
   "execution_count": 327,
   "metadata": {},
   "outputs": [],
   "source": [
    "from sklearn.metrics import accuracy_score\n",
    "from sklearn.metrics import confusion_matrix\n",
    "from sklearn.metrics import roc_auc_score\n",
    "from sklearn.metrics import classification_report"
   ]
  },
  {
   "cell_type": "markdown",
   "metadata": {},
   "source": [
    "# 随机森林"
   ]
  },
  {
   "cell_type": "code",
   "execution_count": 224,
   "metadata": {},
   "outputs": [
    {
     "data": {
      "text/plain": [
       "RandomForestClassifier(n_estimators=10, n_jobs=1)"
      ]
     },
     "execution_count": 224,
     "metadata": {},
     "output_type": "execute_result"
    },
    {
     "name": "stdout",
     "output_type": "stream",
     "text": [
      "accuracy_score:  0.6978621787582443\n",
      "confusion_matrix:  [[ 993 1691]\n",
      " [ 966 5144]]\n",
      "roc_auc_score:  0.6059343603727978\n",
      "classification_report:                precision    recall  f1-score   support\n",
      "\n",
      "           0       0.51      0.37      0.43      2684\n",
      "           1       0.75      0.84      0.79      6110\n",
      "\n",
      "    accuracy                           0.70      8794\n",
      "   macro avg       0.63      0.61      0.61      8794\n",
      "weighted avg       0.68      0.70      0.68      8794\n",
      "\n"
     ]
    }
   ],
   "source": [
    "from sklearn.ensemble import RandomForestClassifier\n",
    "\n",
    "rf_model = RandomForestClassifier(bootstrap=True, class_weight=None, criterion='gini',\n",
    "            max_depth=None, max_features='auto', max_leaf_nodes=None,\n",
    "            min_samples_leaf=1, min_samples_split=2,\n",
    "            min_weight_fraction_leaf=0.0, n_estimators=10, n_jobs=1,\n",
    "            oob_score=False, random_state=None, verbose=0,\n",
    "            warm_start=False)\n",
    "\n",
    "rf_model.fit(X_train, y_train.ravel())\n",
    "y_predict = rf_model.predict(X=X_test)\n",
    "\n",
    "print(\"accuracy_score: \", accuracy_score(y_test, y_predict))\n",
    "print('confusion_matrix: ', confusion_matrix(y_test, y_predict))\n",
    "print('roc_auc_score: ', roc_auc_score(y_test, y_predict))\n",
    "print('classification_report: ', classification_report(y_test, y_predict))"
   ]
  },
  {
   "cell_type": "markdown",
   "metadata": {},
   "source": [
    "# LightGBM"
   ]
  },
  {
   "cell_type": "code",
   "execution_count": 225,
   "metadata": {},
   "outputs": [
    {
     "name": "stderr",
     "output_type": "stream",
     "text": [
      "S:\\DataMining\\venv\\lib\\site-packages\\lightgbm\\basic.py:154: UserWarning: Converting column-vector to 1d array\n",
      "  _log_warning('Converting column-vector to 1d array')\n"
     ]
    },
    {
     "name": "stdout",
     "output_type": "stream",
     "text": [
      "Training until validation scores don't improve for 100 rounds\n",
      "[100]\ttraining's auc: 0.732365\ttraining's binary_logloss: 0.544026\tvalid_1's auc: 0.700284\tvalid_1's binary_logloss: 0.56074\n",
      "[200]\ttraining's auc: 0.745711\ttraining's binary_logloss: 0.532884\tvalid_1's auc: 0.702849\tvalid_1's binary_logloss: 0.559267\n",
      "[300]\ttraining's auc: 0.754831\ttraining's binary_logloss: 0.525873\tvalid_1's auc: 0.703734\tvalid_1's binary_logloss: 0.559172\n",
      "Early stopping, best iteration is:\n",
      "[235]\ttraining's auc: 0.749223\ttraining's binary_logloss: 0.530184\tvalid_1's auc: 0.703482\tvalid_1's binary_logloss: 0.559041\n",
      "accuracy_score:  0.721287241300887\n",
      "confusion_matrix:  [[ 779 1905]\n",
      " [ 546 5564]]\n",
      "roc_auc_score:  0.600438373973428\n",
      "classification_report:                precision    recall  f1-score   support\n",
      "\n",
      "           0       0.59      0.29      0.39      2684\n",
      "           1       0.74      0.91      0.82      6110\n",
      "\n",
      "    accuracy                           0.72      8794\n",
      "   macro avg       0.67      0.60      0.60      8794\n",
      "weighted avg       0.70      0.72      0.69      8794\n",
      "\n"
     ]
    }
   ],
   "source": [
    "import lightgbm as lgb\n",
    "\n",
    "trn_data = lgb.Dataset(X_train, y_train)\n",
    "val_data = lgb.Dataset(X_test, y_test)\n",
    "\n",
    "params = {'num_leaves': 60, #结果对最终效果影响较大，越大值越好，太大会出现过拟合\n",
    "          'min_data_in_leaf': 30,\n",
    "          'objective': 'binary', #定义的目标函数\n",
    "          'max_depth': -1,\n",
    "          'learning_rate': 0.03,\n",
    "          \"min_sum_hessian_in_leaf\": 6,\n",
    "          \"boosting\": \"gbdt\",\n",
    "          \"feature_fraction\": 0.9,  #提取的特征比率\n",
    "          \"bagging_freq\": 1,\n",
    "          \"bagging_fraction\": 0.8,\n",
    "          \"bagging_seed\": 11,\n",
    "          \"lambda_l1\": 0.1,             #l1正则\n",
    "          # 'lambda_l2': 0.001,     #l2正则\n",
    "          \"verbosity\": -1,\n",
    "          \"nthread\": -1,                #线程数量，-1表示全部线程，线程越多，运行的速度越快\n",
    "          'metric': {'binary_logloss', 'auc'},  ##评价函数选择\n",
    "          \"random_state\": 2019, #随机数种子，可以防止每次运行的结果不一致\n",
    "          # 'device': 'gpu' ##如果安装的事gpu版本的lightgbm,可以加快运算\n",
    "          }\n",
    "\n",
    "lgb_model = lgb.train(params, \n",
    "                      trn_data, \n",
    "                      num_boost_round = 1000,\n",
    "                      valid_sets = [trn_data,val_data], \n",
    "                      verbose_eval = 100, \n",
    "                      early_stopping_rounds = 100)\n",
    "\n",
    "y_predict = lgb_model.predict(X_test, num_iteration=lgb_model.best_iteration)\n",
    "\n",
    "y_predict[y_predict > 0.5] = 1\n",
    "y_predict[y_predict <= 0.5] = 0\n",
    "\n",
    "print(\"accuracy_score: \", accuracy_score(y_test, y_predict))\n",
    "print('confusion_matrix: ', confusion_matrix(y_test, y_predict))\n",
    "print('roc_auc_score: ', roc_auc_score(y_test, y_predict))\n",
    "print('classification_report: ', classification_report(y_test, y_predict))"
   ]
  },
  {
   "cell_type": "markdown",
   "metadata": {},
   "source": [
    "## XGBoost"
   ]
  },
  {
   "cell_type": "code",
   "execution_count": null,
   "metadata": {},
   "outputs": [
    {
     "name": "stdout",
     "output_type": "stream",
     "text": [
      "[10:00:41] WARNING: C:/Users/Administrator/workspace/xgboost-win64_release_1.3.0/src/learner.cc:1061: Starting in XGBoost 1.3.0, the default evaluation metric used with the objective 'binary:logistic' was changed from 'error' to 'logloss'. Explicitly set eval_metric if you'd like to restore the old behavior.\n"
     ]
    }
   ],
   "source": [
    "from xgboost import XGBClassifier\n",
    "\n",
    "\n",
    "xgb_model = XGBClassifier(learning_rate =0.05, \n",
    "                          n_estimators=1000,\n",
    "                          use_label_encoder=False,\n",
    "                          max_depth=5,\n",
    "                          min_child_weight=1,\n",
    "                          gamma=0,\n",
    "                          subsample=0.8,\n",
    "                          colsample_bytree=0.8,\n",
    "                          objective= 'binary:logistic',\n",
    "                          nthread=4,\n",
    "                          scale_pos_weight=1,\n",
    "                          random_state=412)\n",
    "\n",
    "xgb_model.fit(X_train, y_train.ravel())\n",
    "y_predict = xgb_model.predict(X_test)\n",
    "\n",
    "print(\"accuracy_score: \", accuracy_score(y_test, y_predict))\n",
    "print('confusion_matrix: ', confusion_matrix(y_test, y_predict))\n",
    "print('roc_auc_score: ', roc_auc_score(y_test, y_predict))\n",
    "print('classification_report: ', classification_report(y_test, y_predict))"
   ]
  },
  {
   "cell_type": "markdown",
   "metadata": {},
   "source": [
    "# A榜提交数据生成"
   ]
  },
  {
   "cell_type": "code",
   "execution_count": null,
   "metadata": {},
   "outputs": [],
   "source": [
    "test_data = pd.read_csv('data/test/test1.csv')\n",
    "test_data.head()"
   ]
  },
  {
   "cell_type": "markdown",
   "metadata": {},
   "source": [
    "# 去除无用列"
   ]
  },
  {
   "cell_type": "code",
   "execution_count": null,
   "metadata": {},
   "outputs": [],
   "source": [
    "delete_list = ['program_duration', 'program_type', 'id_num', 'program_id', 'test_id', 'trainee_id', 'age', 'total_programs_enrolled']"
   ]
  },
  {
   "cell_type": "code",
   "execution_count": null,
   "metadata": {},
   "outputs": [],
   "source": [
    "test_data.drop(delete_list, inplace=True, axis=1)"
   ]
  },
  {
   "cell_type": "markdown",
   "metadata": {},
   "source": [
    "# 缺失值填充"
   ]
  },
  {
   "cell_type": "code",
   "execution_count": null,
   "metadata": {},
   "outputs": [],
   "source": [
    "# test_data['age'].fillna(test_data['age'].mean(), inplace=True)"
   ]
  },
  {
   "cell_type": "markdown",
   "metadata": {},
   "source": [
    "# 独热编码"
   ]
  },
  {
   "cell_type": "code",
   "execution_count": null,
   "metadata": {},
   "outputs": [],
   "source": [
    "# test_data = test_data.join(pd.get_dummies(test_data[[\"gender\"]]))"
   ]
  },
  {
   "cell_type": "markdown",
   "metadata": {},
   "source": [
    "# 去除独热编码的列"
   ]
  },
  {
   "cell_type": "code",
   "execution_count": null,
   "metadata": {},
   "outputs": [],
   "source": [
    "# test_data.drop(['gender'], inplace=True, axis=1)"
   ]
  },
  {
   "cell_type": "markdown",
   "metadata": {},
   "source": [
    "# 特征编码"
   ]
  },
  {
   "cell_type": "code",
   "execution_count": null,
   "metadata": {},
   "outputs": [],
   "source": [
    "test_type_map = {'online': 0, 'offline': 1}\n",
    "difficulty_level_map = {'easy': 1, 'intermediate': 2, 'hard': 3, 'vary hard': 4}\n",
    "education_map = {'No Qualification': 1, 'High School Diploma': 2, 'Matriculation': 3, 'Bachelors': 4, 'Masters': 5}\n",
    "is_handicapped_map = {'N': 0, 'Y': 1}\n",
    "gender_map = {'M': 0, 'F': 1}"
   ]
  },
  {
   "cell_type": "code",
   "execution_count": null,
   "metadata": {},
   "outputs": [],
   "source": [
    "test_data['test_type'] = test_data['test_type'].map(test_type_map)\n",
    "test_data['difficulty_level'] = test_data['difficulty_level'].map(difficulty_level_map)\n",
    "test_data['education'] = test_data['education'].map(education_map)\n",
    "test_data['is_handicapped'] = test_data['is_handicapped'].map(is_handicapped_map)\n",
    "test_data['gender'] = test_data['gender'].map(gender_map)"
   ]
  },
  {
   "cell_type": "code",
   "execution_count": null,
   "metadata": {},
   "outputs": [],
   "source": [
    "test_data.drop(['is_pass'], axis=1, inplace=True)"
   ]
  },
  {
   "cell_type": "code",
   "execution_count": null,
   "metadata": {},
   "outputs": [],
   "source": [
    "test_data"
   ]
  },
  {
   "cell_type": "code",
   "execution_count": null,
   "metadata": {},
   "outputs": [],
   "source": [
    "X_submit = test_data.values"
   ]
  },
  {
   "cell_type": "code",
   "execution_count": null,
   "metadata": {},
   "outputs": [],
   "source": [
    "y_submit = xgb_model.predict(X_submit)\n",
    "y_submit[y_submit > 0.5] = 1\n",
    "y_submit[y_submit <= 0.5] = 0"
   ]
  },
  {
   "cell_type": "code",
   "execution_count": null,
   "metadata": {},
   "outputs": [],
   "source": [
    "print(y_submit)"
   ]
  },
  {
   "cell_type": "code",
   "execution_count": null,
   "metadata": {},
   "outputs": [],
   "source": [
    "id_num = pd.read_csv('data/test/test1.csv')['id_num']"
   ]
  },
  {
   "cell_type": "code",
   "execution_count": null,
   "metadata": {},
   "outputs": [],
   "source": [
    "submission = pd.DataFrame({\n",
    "        \"id_num\": id_num,\n",
    "        \"is_pass\": y_submit\n",
    "    })\n",
    "submission.to_csv('data/submission_Giyn.csv', index=False)"
   ]
  }
 ],
 "metadata": {
  "kernelspec": {
   "display_name": "PyCharm (QG2021DMGroupMidExam)",
   "language": "python",
   "name": "pycharm-696d23ad"
  },
  "language_info": {
   "codemirror_mode": {
    "name": "ipython",
    "version": 3
   },
   "file_extension": ".py",
   "mimetype": "text/x-python",
   "name": "python",
   "nbconvert_exporter": "python",
   "pygments_lexer": "ipython3",
   "version": "3.7.7"
  }
 },
 "nbformat": 4,
 "nbformat_minor": 4
}
