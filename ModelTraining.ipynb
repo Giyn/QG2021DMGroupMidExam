{
 "cells": [
  {
   "cell_type": "markdown",
   "metadata": {
    "jupyter": {
     "outputs_hidden": true
    }
   },
   "source": [
    "# 相关设置"
   ]
  },
  {
   "cell_type": "code",
   "execution_count": 1,
   "metadata": {},
   "outputs": [],
   "source": [
    "from IPython.core.interactiveshell import InteractiveShell\n",
    "\n",
    "import pandas as pd\n",
    "import numpy as np\n",
    "import matplotlib.pyplot as plt\n",
    "import seaborn as sns\n",
    "%matplotlib inline\n",
    "\n",
    "InteractiveShell.ast_node_interactivity = \"all\"  # 一个cell显示多输出\n",
    "\n",
    "pd.set_option('display.max_rows', 100)  # 设置最大显示100行\n",
    "pd.set_option('display.max_columns', 100)  # 设置最大显示100列"
   ]
  },
  {
   "cell_type": "code",
   "execution_count": 6,
   "metadata": {},
   "outputs": [
    {
     "name": "stdout",
     "output_type": "stream",
     "text": [
      "(26956, 18)\n"
     ]
    }
   ],
   "source": [
    "EDA_data = pd.read_csv('data/after_EDA/EDA_data.csv')\n",
    "print(EDA_data.shape)"
   ]
  },
  {
   "cell_type": "code",
   "execution_count": 7,
   "metadata": {},
   "outputs": [
    {
     "name": "stdout",
     "output_type": "stream",
     "text": [
      "(21564, 18)\n",
      "(5392, 18)\n"
     ]
    }
   ],
   "source": [
    "from sklearn.model_selection import train_test_split\n",
    "\n",
    "train_set, test_set = train_test_split(EDA_data, test_size=0.2, random_state=412)\n",
    "\n",
    "print(train_set.shape)\n",
    "print(test_set.shape)"
   ]
  },
  {
   "cell_type": "code",
   "execution_count": 8,
   "metadata": {},
   "outputs": [],
   "source": [
    "X_train = train_set[train_set.columns.difference(['is_pass'])].values\n",
    "y_train = train_set[['is_pass']].values\n",
    "X_test = test_set[test_set.columns.difference(['is_pass'])].values\n",
    "y_test = test_set[['is_pass']].values"
   ]
  },
  {
   "cell_type": "markdown",
   "metadata": {},
   "source": [
    "# 评估方法"
   ]
  },
  {
   "cell_type": "code",
   "execution_count": 9,
   "metadata": {},
   "outputs": [],
   "source": [
    "from sklearn.metrics import accuracy_score\n",
    "from sklearn.metrics import confusion_matrix\n",
    "from sklearn.metrics import roc_auc_score\n",
    "from sklearn.metrics import classification_report"
   ]
  },
  {
   "cell_type": "markdown",
   "metadata": {},
   "source": [
    "# 随机森林"
   ]
  },
  {
   "cell_type": "code",
   "execution_count": 10,
   "metadata": {},
   "outputs": [
    {
     "data": {
      "text/plain": [
       "RandomForestClassifier(n_estimators=10, n_jobs=1)"
      ]
     },
     "execution_count": 10,
     "metadata": {},
     "output_type": "execute_result"
    },
    {
     "name": "stdout",
     "output_type": "stream",
     "text": [
      "accuracy_score:  0.6958456973293768\n",
      "confusion_matrix:  [[ 735  930]\n",
      " [ 710 3017]]\n",
      "roc_auc_score:  0.6254698487056953\n",
      "classification_report:                precision    recall  f1-score   support\n",
      "\n",
      "           0       0.51      0.44      0.47      1665\n",
      "           1       0.76      0.81      0.79      3727\n",
      "\n",
      "    accuracy                           0.70      5392\n",
      "   macro avg       0.64      0.63      0.63      5392\n",
      "weighted avg       0.69      0.70      0.69      5392\n",
      "\n"
     ]
    }
   ],
   "source": [
    "from sklearn.ensemble import RandomForestClassifier\n",
    "\n",
    "rf_model = RandomForestClassifier(bootstrap=True, class_weight=None, criterion='gini',\n",
    "            max_depth=None, max_features='auto', max_leaf_nodes=None,\n",
    "            min_samples_leaf=1, min_samples_split=2,\n",
    "            min_weight_fraction_leaf=0.0, n_estimators=10, n_jobs=1,\n",
    "            oob_score=False, random_state=None, verbose=0,\n",
    "            warm_start=False)\n",
    "\n",
    "rf_model.fit(X_train, y_train.ravel())\n",
    "y_predict = rf_model.predict(X=X_test)\n",
    "\n",
    "print(\"accuracy_score: \", accuracy_score(y_test, y_predict))\n",
    "print('confusion_matrix: ', confusion_matrix(y_test, y_predict))\n",
    "print('roc_auc_score: ', roc_auc_score(y_test, y_predict))\n",
    "print('classification_report: ', classification_report(y_test, y_predict))"
   ]
  },
  {
   "cell_type": "markdown",
   "metadata": {},
   "source": [
    "# LightGBM"
   ]
  },
  {
   "cell_type": "code",
   "execution_count": 13,
   "metadata": {},
   "outputs": [
    {
     "name": "stderr",
     "output_type": "stream",
     "text": [
      "S:\\DataMining\\venv\\lib\\site-packages\\lightgbm\\basic.py:154: UserWarning: Converting column-vector to 1d array\n",
      "  _log_warning('Converting column-vector to 1d array')\n"
     ]
    },
    {
     "name": "stdout",
     "output_type": "stream",
     "text": [
      "Training until validation scores don't improve for 100 rounds\n",
      "[100]\ttraining's multi_error: 0.251438\tvalid_1's multi_error: 0.283012\n",
      "Early stopping, best iteration is:\n",
      "[62]\ttraining's multi_error: 0.256539\tvalid_1's multi_error: 0.281157\n",
      "accuracy_score:  0.7188427299703264\n",
      "confusion_matrix:  [[ 505 1160]\n",
      " [ 356 3371]]\n",
      "roc_auc_score:  0.6038920594863713\n",
      "classification_report:                precision    recall  f1-score   support\n",
      "\n",
      "           0       0.59      0.30      0.40      1665\n",
      "           1       0.74      0.90      0.82      3727\n",
      "\n",
      "    accuracy                           0.72      5392\n",
      "   macro avg       0.67      0.60      0.61      5392\n",
      "weighted avg       0.70      0.72      0.69      5392\n",
      "\n"
     ]
    }
   ],
   "source": [
    "import lightgbm as lgb\n",
    "\n",
    "trn_data = lgb.Dataset(X_train, y_train)\n",
    "val_data = lgb.Dataset(X_test, y_test)\n",
    "\n",
    "params = {  \n",
    "    'boosting_type': 'gbdt',  \n",
    "    'objective': 'multiclass',  \n",
    "    'num_class': 7,  \n",
    "    'metric': 'multi_error',  \n",
    "    'num_leaves': 120,  \n",
    "    'min_data_in_leaf': 100,  \n",
    "    'learning_rate': 0.06,  \n",
    "    'feature_fraction': 0.8,  \n",
    "    'bagging_fraction': 0.8,  \n",
    "    'bagging_freq': 5,  \n",
    "    'lambda_l1': 0.4,  \n",
    "    'lambda_l2': 0.5,  \n",
    "    'min_gain_to_split': 0.2,  \n",
    "    'verbose': -1, \n",
    "}\n",
    "\n",
    "lgb_model = lgb.train(params, \n",
    "                      trn_data, \n",
    "                      num_boost_round = 1000,\n",
    "                      valid_sets = [trn_data,val_data], \n",
    "                      verbose_eval = 100, \n",
    "                      early_stopping_rounds = 100)\n",
    "\n",
    "y_prob = lgb_model.predict(X_test, num_iteration=lgb_model.best_iteration)\n",
    "y_predict = [list(x).index(max(x)) for x in y_prob]\n",
    "\n",
    "print(\"accuracy_score: \", accuracy_score(y_test, y_predict))\n",
    "print('confusion_matrix: ', confusion_matrix(y_test, y_predict))\n",
    "print('roc_auc_score: ', roc_auc_score(y_test, y_predict))\n",
    "print('classification_report: ', classification_report(y_test, y_predict))"
   ]
  },
  {
   "cell_type": "markdown",
   "metadata": {},
   "source": [
    "# A榜提交数据生成"
   ]
  },
  {
   "cell_type": "code",
   "execution_count": 14,
   "metadata": {},
   "outputs": [
    {
     "data": {
      "text/html": [
       "<div>\n",
       "<style scoped>\n",
       "    .dataframe tbody tr th:only-of-type {\n",
       "        vertical-align: middle;\n",
       "    }\n",
       "\n",
       "    .dataframe tbody tr th {\n",
       "        vertical-align: top;\n",
       "    }\n",
       "\n",
       "    .dataframe thead th {\n",
       "        text-align: right;\n",
       "    }\n",
       "</style>\n",
       "<table border=\"1\" class=\"dataframe\">\n",
       "  <thead>\n",
       "    <tr style=\"text-align: right;\">\n",
       "      <th></th>\n",
       "      <th>id_num</th>\n",
       "      <th>program_type</th>\n",
       "      <th>program_id</th>\n",
       "      <th>program_duration</th>\n",
       "      <th>test_id</th>\n",
       "      <th>test_type</th>\n",
       "      <th>difficulty_level</th>\n",
       "      <th>trainee_id</th>\n",
       "      <th>gender</th>\n",
       "      <th>education</th>\n",
       "      <th>city_tier</th>\n",
       "      <th>age</th>\n",
       "      <th>total_programs_enrolled</th>\n",
       "      <th>is_handicapped</th>\n",
       "      <th>trainee_engagement_rating</th>\n",
       "      <th>is_pass</th>\n",
       "    </tr>\n",
       "  </thead>\n",
       "  <tbody>\n",
       "    <tr>\n",
       "      <th>0</th>\n",
       "      <td>1442_124</td>\n",
       "      <td>Y</td>\n",
       "      <td>Y_4</td>\n",
       "      <td>121</td>\n",
       "      <td>124</td>\n",
       "      <td>online</td>\n",
       "      <td>easy</td>\n",
       "      <td>1442</td>\n",
       "      <td>M</td>\n",
       "      <td>High School Diploma</td>\n",
       "      <td>2</td>\n",
       "      <td>NaN</td>\n",
       "      <td>8</td>\n",
       "      <td>N</td>\n",
       "      <td>4.0</td>\n",
       "      <td>NaN</td>\n",
       "    </tr>\n",
       "    <tr>\n",
       "      <th>1</th>\n",
       "      <td>12373_38</td>\n",
       "      <td>T</td>\n",
       "      <td>T_2</td>\n",
       "      <td>117</td>\n",
       "      <td>38</td>\n",
       "      <td>online</td>\n",
       "      <td>easy</td>\n",
       "      <td>12373</td>\n",
       "      <td>F</td>\n",
       "      <td>High School Diploma</td>\n",
       "      <td>4</td>\n",
       "      <td>31.0</td>\n",
       "      <td>2</td>\n",
       "      <td>N</td>\n",
       "      <td>3.0</td>\n",
       "      <td>NaN</td>\n",
       "    </tr>\n",
       "    <tr>\n",
       "      <th>2</th>\n",
       "      <td>12035_21</td>\n",
       "      <td>T</td>\n",
       "      <td>T_3</td>\n",
       "      <td>134</td>\n",
       "      <td>21</td>\n",
       "      <td>offline</td>\n",
       "      <td>easy</td>\n",
       "      <td>12035</td>\n",
       "      <td>F</td>\n",
       "      <td>High School Diploma</td>\n",
       "      <td>4</td>\n",
       "      <td>NaN</td>\n",
       "      <td>2</td>\n",
       "      <td>N</td>\n",
       "      <td>1.0</td>\n",
       "      <td>NaN</td>\n",
       "    </tr>\n",
       "    <tr>\n",
       "      <th>3</th>\n",
       "      <td>11148_86</td>\n",
       "      <td>V</td>\n",
       "      <td>V_3</td>\n",
       "      <td>131</td>\n",
       "      <td>86</td>\n",
       "      <td>offline</td>\n",
       "      <td>vary hard</td>\n",
       "      <td>11148</td>\n",
       "      <td>M</td>\n",
       "      <td>Matriculation</td>\n",
       "      <td>1</td>\n",
       "      <td>NaN</td>\n",
       "      <td>2</td>\n",
       "      <td>N</td>\n",
       "      <td>1.0</td>\n",
       "      <td>NaN</td>\n",
       "    </tr>\n",
       "    <tr>\n",
       "      <th>4</th>\n",
       "      <td>1362_131</td>\n",
       "      <td>Y</td>\n",
       "      <td>Y_3</td>\n",
       "      <td>135</td>\n",
       "      <td>131</td>\n",
       "      <td>online</td>\n",
       "      <td>easy</td>\n",
       "      <td>1362</td>\n",
       "      <td>M</td>\n",
       "      <td>High School Diploma</td>\n",
       "      <td>2</td>\n",
       "      <td>45.0</td>\n",
       "      <td>2</td>\n",
       "      <td>N</td>\n",
       "      <td>4.0</td>\n",
       "      <td>NaN</td>\n",
       "    </tr>\n",
       "  </tbody>\n",
       "</table>\n",
       "</div>"
      ],
      "text/plain": [
       "     id_num program_type program_id  program_duration  test_id test_type  \\\n",
       "0  1442_124            Y        Y_4               121      124    online   \n",
       "1  12373_38            T        T_2               117       38    online   \n",
       "2  12035_21            T        T_3               134       21   offline   \n",
       "3  11148_86            V        V_3               131       86   offline   \n",
       "4  1362_131            Y        Y_3               135      131    online   \n",
       "\n",
       "  difficulty_level  trainee_id gender            education  city_tier   age  \\\n",
       "0             easy        1442      M  High School Diploma          2   NaN   \n",
       "1             easy       12373      F  High School Diploma          4  31.0   \n",
       "2             easy       12035      F  High School Diploma          4   NaN   \n",
       "3        vary hard       11148      M        Matriculation          1   NaN   \n",
       "4             easy        1362      M  High School Diploma          2  45.0   \n",
       "\n",
       "   total_programs_enrolled is_handicapped  trainee_engagement_rating  is_pass  \n",
       "0                        8              N                        4.0      NaN  \n",
       "1                        2              N                        3.0      NaN  \n",
       "2                        2              N                        1.0      NaN  \n",
       "3                        2              N                        1.0      NaN  \n",
       "4                        2              N                        4.0      NaN  "
      ]
     },
     "execution_count": 14,
     "metadata": {},
     "output_type": "execute_result"
    }
   ],
   "source": [
    "test_data = pd.read_csv('data/test/test1.csv')\n",
    "test_data.head()"
   ]
  },
  {
   "cell_type": "markdown",
   "metadata": {},
   "source": [
    "# 去除无用列"
   ]
  },
  {
   "cell_type": "code",
   "execution_count": 15,
   "metadata": {},
   "outputs": [],
   "source": [
    "test_data.drop(['program_type', 'id_num', 'program_id', 'test_id', 'trainee_id'], inplace=True, axis=1)"
   ]
  },
  {
   "cell_type": "markdown",
   "metadata": {},
   "source": [
    "# 缺失值填充"
   ]
  },
  {
   "cell_type": "code",
   "execution_count": 16,
   "metadata": {},
   "outputs": [],
   "source": [
    "test_data['age'].fillna(test_data['age'].mean(), inplace=True)"
   ]
  },
  {
   "cell_type": "markdown",
   "metadata": {},
   "source": [
    "# 独热编码"
   ]
  },
  {
   "cell_type": "code",
   "execution_count": 17,
   "metadata": {},
   "outputs": [],
   "source": [
    "test_data = test_data.join(pd.get_dummies(test_data[[\"difficulty_level\"]]))\n",
    "test_data = test_data.join(pd.get_dummies(test_data[[\"education\"]]))"
   ]
  },
  {
   "cell_type": "markdown",
   "metadata": {},
   "source": [
    "# 去除独热编码的列"
   ]
  },
  {
   "cell_type": "code",
   "execution_count": 18,
   "metadata": {},
   "outputs": [],
   "source": [
    "test_data.drop(['difficulty_level', 'education'], inplace=True, axis=1)"
   ]
  },
  {
   "cell_type": "markdown",
   "metadata": {},
   "source": [
    "# 硬编码"
   ]
  },
  {
   "cell_type": "code",
   "execution_count": 22,
   "metadata": {},
   "outputs": [],
   "source": [
    "test_type_map = {elem: index for index, elem in enumerate(set(test_data[\"test_type\"]))}\n",
    "gender_map = {elem: index for index, elem in enumerate(set(test_data[\"gender\"]))}\n",
    "is_handicapped_map = {elem: index for index, elem in enumerate(set(test_data[\"is_handicapped\"]))}"
   ]
  },
  {
   "cell_type": "code",
   "execution_count": 23,
   "metadata": {},
   "outputs": [],
   "source": [
    "test_data['test_type'] = test_data['test_type'].map(test_type_map)\n",
    "test_data['gender'] = test_data['gender'].map(gender_map)\n",
    "test_data['is_handicapped'] = test_data['is_handicapped'].map(is_handicapped_map)"
   ]
  },
  {
   "cell_type": "code",
   "execution_count": 30,
   "metadata": {},
   "outputs": [],
   "source": [
    "test_data.drop(['is_pass'], axis=1, inplace=True)"
   ]
  },
  {
   "cell_type": "code",
   "execution_count": 31,
   "metadata": {},
   "outputs": [],
   "source": [
    "X_submit = test_data.values"
   ]
  },
  {
   "cell_type": "code",
   "execution_count": 32,
   "metadata": {},
   "outputs": [],
   "source": [
    "y_prob = lgb_model.predict(X_submit, num_iteration=lgb_model.best_iteration)\n",
    "y_submit = [list(x).index(max(x)) for x in y_prob]"
   ]
  },
  {
   "cell_type": "code",
   "execution_count": 33,
   "metadata": {},
   "outputs": [],
   "source": [
    "id_num = pd.read_csv('data/test/test1.csv')['id_num']"
   ]
  },
  {
   "cell_type": "code",
   "execution_count": 34,
   "metadata": {},
   "outputs": [],
   "source": [
    "submission = pd.DataFrame({\n",
    "        \"id_num\": id_num,\n",
    "        \"is_pass\": y_submit\n",
    "    })\n",
    "submission.to_csv('data/submission_Giyn.csv', index=False)"
   ]
  }
 ],
 "metadata": {
  "kernelspec": {
   "display_name": "PyCharm (QG2021DMGroupMidExam)",
   "language": "python",
   "name": "pycharm-696d23ad"
  },
  "language_info": {
   "codemirror_mode": {
    "name": "ipython",
    "version": 3
   },
   "file_extension": ".py",
   "mimetype": "text/x-python",
   "name": "python",
   "nbconvert_exporter": "python",
   "pygments_lexer": "ipython3",
   "version": "3.7.7"
  }
 },
 "nbformat": 4,
 "nbformat_minor": 4
}
